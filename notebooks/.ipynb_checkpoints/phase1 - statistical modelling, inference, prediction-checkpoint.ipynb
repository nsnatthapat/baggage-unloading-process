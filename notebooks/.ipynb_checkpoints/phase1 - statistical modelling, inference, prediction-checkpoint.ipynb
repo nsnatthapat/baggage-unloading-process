{
 "cells": [
  {
   "cell_type": "markdown",
   "id": "7522fc1f-7b49-4dcc-b515-074b08b68126",
   "metadata": {},
   "source": [
    "# Import Libraries, Data, Process Dates, Calculate Columns"
   ]
  },
  {
   "cell_type": "code",
   "execution_count": 184,
   "id": "f753624f-629d-4c9e-94b8-339d7e0cefcb",
   "metadata": {
    "scrolled": true
   },
   "outputs": [],
   "source": [
    "import pandas as pd\n",
    "from scipy.stats import shapiro, anderson, normaltest, skew, kurtosis, binom, norm\n",
    "import matplotlib.pyplot as plt\n",
    "import numpy as np"
   ]
  },
  {
   "cell_type": "code",
   "execution_count": 185,
   "id": "23c707bb-0321-43ca-8423-abdbbef4e25d",
   "metadata": {},
   "outputs": [
    {
     "name": "stderr",
     "output_type": "stream",
     "text": [
      "/var/folders/f9/h1fzr8_920x1wh3dtpzy4cmh0000gn/T/ipykernel_31319/2868169206.py:2: UserWarning: Could not infer format, so each element will be parsed individually, falling back to `dateutil`. To ensure parsing is consistent and as-expected, please specify a format.\n",
      "  df = pd.read_csv(file_path, parse_dates=['ActualArrival', 'FirstBagDropTime', 'LastBagDropTime'])\n",
      "/var/folders/f9/h1fzr8_920x1wh3dtpzy4cmh0000gn/T/ipykernel_31319/2868169206.py:2: UserWarning: Could not infer format, so each element will be parsed individually, falling back to `dateutil`. To ensure parsing is consistent and as-expected, please specify a format.\n",
      "  df = pd.read_csv(file_path, parse_dates=['ActualArrival', 'FirstBagDropTime', 'LastBagDropTime'])\n",
      "/var/folders/f9/h1fzr8_920x1wh3dtpzy4cmh0000gn/T/ipykernel_31319/2868169206.py:2: UserWarning: Could not infer format, so each element will be parsed individually, falling back to `dateutil`. To ensure parsing is consistent and as-expected, please specify a format.\n",
      "  df = pd.read_csv(file_path, parse_dates=['ActualArrival', 'FirstBagDropTime', 'LastBagDropTime'])\n"
     ]
    },
    {
     "data": {
      "text/plain": [
       "(99174, 11)"
      ]
     },
     "execution_count": 185,
     "metadata": {},
     "output_type": "execute_result"
    }
   ],
   "source": [
    "file_path = '../data/Project Data_2025.csv' # Replace with your actual file path\n",
    "df = pd.read_csv(file_path, parse_dates=['ActualArrival', 'FirstBagDropTime', 'LastBagDropTime'])\n",
    "   \n",
    "df['DeliveryDurationMins'] = (df['LastBagDropTime'] - df['ActualArrival']).dt.total_seconds() / 60\n",
    "df['Arrival_To_First'] = (df['FirstBagDropTime'] - df['ActualArrival']).dt.total_seconds() / 60\n",
    "df['First_To_last'] = (df['LastBagDropTime'] - df['FirstBagDropTime']).dt.total_seconds() / 60\n",
    "\n",
    "df['OnTimeSuccess'] = (df['DeliveryDurationMins'] < 21).astype(int)\n",
    "df.shape"
   ]
  },
  {
   "cell_type": "code",
   "execution_count": 186,
   "id": "375f98cf-5ca5-4974-acc2-93fd24e5e47b",
   "metadata": {},
   "outputs": [
    {
     "data": {
      "text/plain": [
       "<DatetimeArray>\n",
       "['2021-07-22 08:29:00', '2021-07-22 08:30:00', '2021-07-22 08:26:00',\n",
       " '2021-07-22 08:41:00', '2021-07-22 08:40:00', '2021-07-22 08:56:00',\n",
       " '2021-07-22 08:54:00', '2021-07-22 08:57:00', '2021-07-22 09:03:00',\n",
       " '2021-07-22 09:19:00',\n",
       " ...\n",
       " '2022-08-12 04:48:00', '2022-08-12 05:13:00', '2022-08-12 06:24:00',\n",
       " '2022-08-12 06:28:00', '2022-08-12 06:32:00', '2022-08-12 06:29:00',\n",
       " '2022-08-12 06:50:00', '2022-08-12 07:06:00', '2022-08-12 07:12:00',\n",
       " '2022-08-12 07:23:00']\n",
       "Length: 66612, dtype: datetime64[ns]"
      ]
     },
     "execution_count": 186,
     "metadata": {},
     "output_type": "execute_result"
    }
   ],
   "source": [
    "df.FirstBagDropTime.unique()"
   ]
  },
  {
   "cell_type": "code",
   "execution_count": 187,
   "id": "2a4c885a-8c94-4a78-8a44-338326faa7a6",
   "metadata": {},
   "outputs": [
    {
     "data": {
      "text/html": [
       "<div>\n",
       "<style scoped>\n",
       "    .dataframe tbody tr th:only-of-type {\n",
       "        vertical-align: middle;\n",
       "    }\n",
       "\n",
       "    .dataframe tbody tr th {\n",
       "        vertical-align: top;\n",
       "    }\n",
       "\n",
       "    .dataframe thead th {\n",
       "        text-align: right;\n",
       "    }\n",
       "</style>\n",
       "<table border=\"1\" class=\"dataframe\">\n",
       "  <thead>\n",
       "    <tr style=\"text-align: right;\">\n",
       "      <th></th>\n",
       "      <th>ActualArrival</th>\n",
       "      <th>FlightNumber</th>\n",
       "      <th>Origin</th>\n",
       "      <th>Destination</th>\n",
       "      <th>ExpectedBagsCount</th>\n",
       "      <th>FirstBagDropTime</th>\n",
       "      <th>LastBagDropTime</th>\n",
       "      <th>DeliveryDurationMins</th>\n",
       "      <th>Arrival_To_First</th>\n",
       "      <th>First_To_last</th>\n",
       "      <th>OnTimeSuccess</th>\n",
       "    </tr>\n",
       "  </thead>\n",
       "  <tbody>\n",
       "    <tr>\n",
       "      <th>0</th>\n",
       "      <td>2021-07-22 08:20:00</td>\n",
       "      <td>8390</td>\n",
       "      <td>EVF</td>\n",
       "      <td>YZU</td>\n",
       "      <td>6</td>\n",
       "      <td>2021-07-22 08:29:00</td>\n",
       "      <td>2021-07-22 08:29:00</td>\n",
       "      <td>9.0</td>\n",
       "      <td>9.0</td>\n",
       "      <td>0.0</td>\n",
       "      <td>1</td>\n",
       "    </tr>\n",
       "    <tr>\n",
       "      <th>1</th>\n",
       "      <td>2021-07-22 08:20:00</td>\n",
       "      <td>6898</td>\n",
       "      <td>CYT</td>\n",
       "      <td>YZU</td>\n",
       "      <td>24</td>\n",
       "      <td>2021-07-22 08:30:00</td>\n",
       "      <td>2021-07-22 08:31:00</td>\n",
       "      <td>11.0</td>\n",
       "      <td>10.0</td>\n",
       "      <td>1.0</td>\n",
       "      <td>1</td>\n",
       "    </tr>\n",
       "    <tr>\n",
       "      <th>2</th>\n",
       "      <td>2021-07-22 08:20:00</td>\n",
       "      <td>3095</td>\n",
       "      <td>YZU</td>\n",
       "      <td>EVF</td>\n",
       "      <td>27</td>\n",
       "      <td>2021-07-22 08:26:00</td>\n",
       "      <td>2021-07-22 08:29:00</td>\n",
       "      <td>9.0</td>\n",
       "      <td>6.0</td>\n",
       "      <td>3.0</td>\n",
       "      <td>1</td>\n",
       "    </tr>\n",
       "    <tr>\n",
       "      <th>3</th>\n",
       "      <td>2021-07-22 08:31:00</td>\n",
       "      <td>4821</td>\n",
       "      <td>CYT</td>\n",
       "      <td>YUX</td>\n",
       "      <td>17</td>\n",
       "      <td>2021-07-22 08:41:00</td>\n",
       "      <td>2021-07-22 08:45:00</td>\n",
       "      <td>14.0</td>\n",
       "      <td>10.0</td>\n",
       "      <td>4.0</td>\n",
       "      <td>1</td>\n",
       "    </tr>\n",
       "    <tr>\n",
       "      <th>4</th>\n",
       "      <td>2021-07-22 08:33:00</td>\n",
       "      <td>2512</td>\n",
       "      <td>EYT</td>\n",
       "      <td>YZU</td>\n",
       "      <td>32</td>\n",
       "      <td>2021-07-22 08:40:00</td>\n",
       "      <td>2021-07-22 08:42:00</td>\n",
       "      <td>9.0</td>\n",
       "      <td>7.0</td>\n",
       "      <td>2.0</td>\n",
       "      <td>1</td>\n",
       "    </tr>\n",
       "  </tbody>\n",
       "</table>\n",
       "</div>"
      ],
      "text/plain": [
       "        ActualArrival  FlightNumber Origin Destination  ExpectedBagsCount  \\\n",
       "0 2021-07-22 08:20:00          8390    EVF         YZU                  6   \n",
       "1 2021-07-22 08:20:00          6898    CYT         YZU                 24   \n",
       "2 2021-07-22 08:20:00          3095    YZU         EVF                 27   \n",
       "3 2021-07-22 08:31:00          4821    CYT         YUX                 17   \n",
       "4 2021-07-22 08:33:00          2512    EYT         YZU                 32   \n",
       "\n",
       "     FirstBagDropTime     LastBagDropTime  DeliveryDurationMins  \\\n",
       "0 2021-07-22 08:29:00 2021-07-22 08:29:00                   9.0   \n",
       "1 2021-07-22 08:30:00 2021-07-22 08:31:00                  11.0   \n",
       "2 2021-07-22 08:26:00 2021-07-22 08:29:00                   9.0   \n",
       "3 2021-07-22 08:41:00 2021-07-22 08:45:00                  14.0   \n",
       "4 2021-07-22 08:40:00 2021-07-22 08:42:00                   9.0   \n",
       "\n",
       "   Arrival_To_First  First_To_last  OnTimeSuccess  \n",
       "0               9.0            0.0              1  \n",
       "1              10.0            1.0              1  \n",
       "2               6.0            3.0              1  \n",
       "3              10.0            4.0              1  \n",
       "4               7.0            2.0              1  "
      ]
     },
     "execution_count": 187,
     "metadata": {},
     "output_type": "execute_result"
    }
   ],
   "source": [
    "df.head()"
   ]
  },
  {
   "cell_type": "markdown",
   "id": "08b168d6-1e33-47a7-b931-f1835d82318b",
   "metadata": {},
   "source": [
    "# Check for Data Errors"
   ]
  },
  {
   "cell_type": "code",
   "execution_count": 189,
   "id": "2f4842bd-4e1a-4053-adf8-513b550bf053",
   "metadata": {},
   "outputs": [],
   "source": [
    "def audit_baggage_data(df):\n",
    "    audit_results = {}\n",
    "    bad_rows = {}\n",
    "\n",
    "    # Ensure datetime columns are parsed correctly\n",
    "    df['FirstBagDropTime'] = pd.to_datetime(df['FirstBagDropTime'], errors='coerce')\n",
    "    df['LastBagDropTime'] = pd.to_datetime(df['LastBagDropTime'], errors='coerce')\n",
    "    df['ActualArrival'] = pd.to_datetime(df['ActualArrival'], errors='coerce')\n",
    "\n",
    "    # 1. LastBagDropTime >= FirstBagDropTime\n",
    "    check1 = df[df['LastBagDropTime'] < df['FirstBagDropTime']]\n",
    "    audit_results['Invalid Bag Drop Order'] = len(check1)\n",
    "    bad_rows['Invalid Bag Drop Order'] = check1\n",
    "\n",
    "    # 2. FirstBagDropTime >= ActualArrival\n",
    "    check2 = df[df['FirstBagDropTime'] < df['ActualArrival']]\n",
    "    audit_results['Bags Delivered Before Arrival'] = len(check2)\n",
    "    bad_rows['Bags Delivered Before Arrival'] = check2\n",
    "\n",
    "    # 3. ExpectedBagsCount not negative\n",
    "    check4 = df[df['ExpectedBagsCount'] < 0]\n",
    "    audit_results['Negative Expected Bag Count'] = len(check4)\n",
    "    bad_rows['Negative Expected Bag Count'] = check4\n",
    "\n",
    "    # 4. Missing values anywhere\n",
    "    check5 = df[df.isnull().any(axis=1)]\n",
    "    audit_results['Rows with Missing Fields'] = len(check5)\n",
    "    bad_rows['Missing Critical Fields'] = check5\n",
    "\n",
    "    # 5. Exact duplicate rows\n",
    "    check6 = df[df.duplicated(keep=False)]\n",
    "    audit_results['Exact Duplicate Rows'] = len(check6)\n",
    "    bad_rows['Exact Duplicate Rows'] = check6\n",
    "\n",
    "    # 6. Partial duplicates: Same FlightNumber + ActualArrival, but NOT exact duplicates\n",
    "    check7_all = df[df.duplicated(subset=['FlightNumber', 'ActualArrival'], keep=False)] \n",
    "    # Exclude rows that are already counted as exact duplicates\n",
    "    check7 = check7_all[~check7_all.index.isin(check6.index)]\n",
    "    # Store result\n",
    "    audit_results['Duplicate Flight Entries'] = len(check7)\n",
    "    bad_rows['Duplicate Flight Entries'] = check7\n",
    "\n",
    "    # 7. Origin == Destination\n",
    "    check8 = df[df['Origin'] == df['Destination']]\n",
    "    audit_results['Origin Equals Destination'] = len(check8)\n",
    "    bad_rows['Origin Equals Destination'] = check8\n",
    "\n",
    "    # 8. 0 Expected Bags but bag drop times present\n",
    "    check9 = df[(df['ExpectedBagsCount'] == 0) & (df['DeliveryDurationMins'] > 0)]\n",
    "    audit_results['Bag Drop Times with 0 Expected Bags'] = len(check9)\n",
    "    bad_rows['Bag Drop Times with 0 Expected Bags'] = check9\n",
    "\n",
    "    # 9. Substantial ExpectedBagsCount but DeliveryDurationMins == 0\n",
    "    check10 = df[(df['ExpectedBagsCount'] > 0) & (df['DeliveryDurationMins'] == 0)]\n",
    "    audit_results['Zero Delivery Duration w/ Bags'] = len(check10)\n",
    "    bad_rows['Zero Delivery Duration w/ Bags'] = check10\n",
    "\n",
    "    # Final audit summary\n",
    "    audit_df = pd.DataFrame.from_dict(audit_results, orient='index', columns=['Issue Count'])\n",
    "    audit_df.index.name = 'Check'\n",
    "\n",
    "    return audit_df, bad_rows"
   ]
  },
  {
   "cell_type": "code",
   "execution_count": 190,
   "id": "60deea18-5299-4b4e-ba3f-d7bd4527392f",
   "metadata": {},
   "outputs": [
    {
     "name": "stdout",
     "output_type": "stream",
     "text": [
      "=== AUDIT SUMMARY ===\n",
      "                                     Issue Count\n",
      "Check                                           \n",
      "Invalid Bag Drop Order                         0\n",
      "Bags Delivered Before Arrival                  0\n",
      "Negative Expected Bag Count                    0\n",
      "Rows with Missing Fields                       0\n",
      "Exact Duplicate Rows                       14266\n",
      "Duplicate Flight Entries                      20\n",
      "Origin Equals Destination                     35\n",
      "Bag Drop Times with 0 Expected Bags           81\n",
      "Zero Delivery Duration w/ Bags               117\n"
     ]
    }
   ],
   "source": [
    "audit_df, bad_rows = audit_baggage_data(df)\n",
    "\n",
    "print(\"=== AUDIT SUMMARY ===\")\n",
    "print(audit_df)"
   ]
  },
  {
   "cell_type": "code",
   "execution_count": 191,
   "id": "5ae278a6-b897-4877-914d-d90089695b33",
   "metadata": {},
   "outputs": [
    {
     "data": {
      "text/plain": [
       "14451"
      ]
     },
     "execution_count": 191,
     "metadata": {},
     "output_type": "execute_result"
    }
   ],
   "source": [
    "total_problem_rows = len(set().union(*[df_.index for df_ in bad_rows.values()]))\n",
    "total_problem_rows"
   ]
  },
  {
   "cell_type": "code",
   "execution_count": 192,
   "id": "64eaddaa-bcea-4b22-bcdd-163b0b5f5cfb",
   "metadata": {},
   "outputs": [
    {
     "data": {
      "text/html": [
       "<div>\n",
       "<style scoped>\n",
       "    .dataframe tbody tr th:only-of-type {\n",
       "        vertical-align: middle;\n",
       "    }\n",
       "\n",
       "    .dataframe tbody tr th {\n",
       "        vertical-align: top;\n",
       "    }\n",
       "\n",
       "    .dataframe thead th {\n",
       "        text-align: right;\n",
       "    }\n",
       "</style>\n",
       "<table border=\"1\" class=\"dataframe\">\n",
       "  <thead>\n",
       "    <tr style=\"text-align: right;\">\n",
       "      <th></th>\n",
       "      <th>ActualArrival</th>\n",
       "      <th>FlightNumber</th>\n",
       "      <th>Origin</th>\n",
       "      <th>Destination</th>\n",
       "      <th>ExpectedBagsCount</th>\n",
       "      <th>FirstBagDropTime</th>\n",
       "      <th>LastBagDropTime</th>\n",
       "      <th>DeliveryDurationMins</th>\n",
       "      <th>Arrival_To_First</th>\n",
       "      <th>First_To_last</th>\n",
       "      <th>OnTimeSuccess</th>\n",
       "    </tr>\n",
       "  </thead>\n",
       "  <tbody>\n",
       "    <tr>\n",
       "      <th>5389</th>\n",
       "      <td>2021-08-06 11:38:00</td>\n",
       "      <td>338</td>\n",
       "      <td>WYV</td>\n",
       "      <td>FTU</td>\n",
       "      <td>58</td>\n",
       "      <td>2021-08-06 11:53:00</td>\n",
       "      <td>2021-08-06 11:55:00</td>\n",
       "      <td>17.0</td>\n",
       "      <td>15.0</td>\n",
       "      <td>2.0</td>\n",
       "      <td>1</td>\n",
       "    </tr>\n",
       "    <tr>\n",
       "      <th>5390</th>\n",
       "      <td>2021-08-06 11:38:00</td>\n",
       "      <td>338</td>\n",
       "      <td>YXY</td>\n",
       "      <td>FTU</td>\n",
       "      <td>42</td>\n",
       "      <td>2021-08-06 11:52:00</td>\n",
       "      <td>2021-08-06 11:54:00</td>\n",
       "      <td>16.0</td>\n",
       "      <td>14.0</td>\n",
       "      <td>2.0</td>\n",
       "      <td>1</td>\n",
       "    </tr>\n",
       "    <tr>\n",
       "      <th>38696</th>\n",
       "      <td>2021-11-07 22:11:00</td>\n",
       "      <td>42</td>\n",
       "      <td>FTU</td>\n",
       "      <td>AAW</td>\n",
       "      <td>65</td>\n",
       "      <td>2021-11-07 22:24:00</td>\n",
       "      <td>2021-11-07 22:26:00</td>\n",
       "      <td>15.0</td>\n",
       "      <td>13.0</td>\n",
       "      <td>2.0</td>\n",
       "      <td>1</td>\n",
       "    </tr>\n",
       "  </tbody>\n",
       "</table>\n",
       "</div>"
      ],
      "text/plain": [
       "            ActualArrival  FlightNumber Origin Destination  ExpectedBagsCount  \\\n",
       "5389  2021-08-06 11:38:00           338    WYV         FTU                 58   \n",
       "5390  2021-08-06 11:38:00           338    YXY         FTU                 42   \n",
       "38696 2021-11-07 22:11:00            42    FTU         AAW                 65   \n",
       "\n",
       "         FirstBagDropTime     LastBagDropTime  DeliveryDurationMins  \\\n",
       "5389  2021-08-06 11:53:00 2021-08-06 11:55:00                  17.0   \n",
       "5390  2021-08-06 11:52:00 2021-08-06 11:54:00                  16.0   \n",
       "38696 2021-11-07 22:24:00 2021-11-07 22:26:00                  15.0   \n",
       "\n",
       "       Arrival_To_First  First_To_last  OnTimeSuccess  \n",
       "5389               15.0            2.0              1  \n",
       "5390               14.0            2.0              1  \n",
       "38696              13.0            2.0              1  "
      ]
     },
     "execution_count": 192,
     "metadata": {},
     "output_type": "execute_result"
    }
   ],
   "source": [
    "bad_rows['Duplicate Flight Entries'].head(3)"
   ]
  },
  {
   "cell_type": "code",
   "execution_count": 193,
   "id": "ba56b38a-7727-4575-b4e9-f56723669c16",
   "metadata": {},
   "outputs": [
    {
     "data": {
      "text/html": [
       "<div>\n",
       "<style scoped>\n",
       "    .dataframe tbody tr th:only-of-type {\n",
       "        vertical-align: middle;\n",
       "    }\n",
       "\n",
       "    .dataframe tbody tr th {\n",
       "        vertical-align: top;\n",
       "    }\n",
       "\n",
       "    .dataframe thead th {\n",
       "        text-align: right;\n",
       "    }\n",
       "</style>\n",
       "<table border=\"1\" class=\"dataframe\">\n",
       "  <thead>\n",
       "    <tr style=\"text-align: right;\">\n",
       "      <th></th>\n",
       "      <th>ActualArrival</th>\n",
       "      <th>FlightNumber</th>\n",
       "      <th>Origin</th>\n",
       "      <th>Destination</th>\n",
       "      <th>ExpectedBagsCount</th>\n",
       "      <th>FirstBagDropTime</th>\n",
       "      <th>LastBagDropTime</th>\n",
       "      <th>DeliveryDurationMins</th>\n",
       "      <th>Arrival_To_First</th>\n",
       "      <th>First_To_last</th>\n",
       "      <th>OnTimeSuccess</th>\n",
       "    </tr>\n",
       "  </thead>\n",
       "  <tbody>\n",
       "    <tr>\n",
       "      <th>58</th>\n",
       "      <td>2021-07-22 10:31:00</td>\n",
       "      <td>1985</td>\n",
       "      <td>WWC</td>\n",
       "      <td>FTU</td>\n",
       "      <td>0</td>\n",
       "      <td>2021-07-22 10:40:00</td>\n",
       "      <td>2021-07-22 10:40:00</td>\n",
       "      <td>9.0</td>\n",
       "      <td>9.0</td>\n",
       "      <td>0.0</td>\n",
       "      <td>1</td>\n",
       "    </tr>\n",
       "    <tr>\n",
       "      <th>1063</th>\n",
       "      <td>2021-07-25 06:07:00</td>\n",
       "      <td>5814</td>\n",
       "      <td>VED</td>\n",
       "      <td>FTU</td>\n",
       "      <td>0</td>\n",
       "      <td>2021-07-25 06:27:00</td>\n",
       "      <td>2021-07-25 06:27:00</td>\n",
       "      <td>20.0</td>\n",
       "      <td>20.0</td>\n",
       "      <td>0.0</td>\n",
       "      <td>1</td>\n",
       "    </tr>\n",
       "    <tr>\n",
       "      <th>1112</th>\n",
       "      <td>2021-07-25 12:25:00</td>\n",
       "      <td>8846</td>\n",
       "      <td>DFX</td>\n",
       "      <td>FTU</td>\n",
       "      <td>0</td>\n",
       "      <td>2021-07-25 12:37:00</td>\n",
       "      <td>2021-07-25 12:38:00</td>\n",
       "      <td>13.0</td>\n",
       "      <td>12.0</td>\n",
       "      <td>1.0</td>\n",
       "      <td>1</td>\n",
       "    </tr>\n",
       "  </tbody>\n",
       "</table>\n",
       "</div>"
      ],
      "text/plain": [
       "           ActualArrival  FlightNumber Origin Destination  ExpectedBagsCount  \\\n",
       "58   2021-07-22 10:31:00          1985    WWC         FTU                  0   \n",
       "1063 2021-07-25 06:07:00          5814    VED         FTU                  0   \n",
       "1112 2021-07-25 12:25:00          8846    DFX         FTU                  0   \n",
       "\n",
       "        FirstBagDropTime     LastBagDropTime  DeliveryDurationMins  \\\n",
       "58   2021-07-22 10:40:00 2021-07-22 10:40:00                   9.0   \n",
       "1063 2021-07-25 06:27:00 2021-07-25 06:27:00                  20.0   \n",
       "1112 2021-07-25 12:37:00 2021-07-25 12:38:00                  13.0   \n",
       "\n",
       "      Arrival_To_First  First_To_last  OnTimeSuccess  \n",
       "58                 9.0            0.0              1  \n",
       "1063              20.0            0.0              1  \n",
       "1112              12.0            1.0              1  "
      ]
     },
     "execution_count": 193,
     "metadata": {},
     "output_type": "execute_result"
    }
   ],
   "source": [
    "bad_rows['Bag Drop Times with 0 Expected Bags'].head(3)"
   ]
  },
  {
   "cell_type": "code",
   "execution_count": 194,
   "id": "19bc1a9f-b701-4e89-a91f-4b74f0849065",
   "metadata": {},
   "outputs": [
    {
     "data": {
      "text/html": [
       "<div>\n",
       "<style scoped>\n",
       "    .dataframe tbody tr th:only-of-type {\n",
       "        vertical-align: middle;\n",
       "    }\n",
       "\n",
       "    .dataframe tbody tr th {\n",
       "        vertical-align: top;\n",
       "    }\n",
       "\n",
       "    .dataframe thead th {\n",
       "        text-align: right;\n",
       "    }\n",
       "</style>\n",
       "<table border=\"1\" class=\"dataframe\">\n",
       "  <thead>\n",
       "    <tr style=\"text-align: right;\">\n",
       "      <th></th>\n",
       "      <th>ActualArrival</th>\n",
       "      <th>FlightNumber</th>\n",
       "      <th>Origin</th>\n",
       "      <th>Destination</th>\n",
       "      <th>ExpectedBagsCount</th>\n",
       "      <th>FirstBagDropTime</th>\n",
       "      <th>LastBagDropTime</th>\n",
       "      <th>DeliveryDurationMins</th>\n",
       "      <th>Arrival_To_First</th>\n",
       "      <th>First_To_last</th>\n",
       "      <th>OnTimeSuccess</th>\n",
       "    </tr>\n",
       "  </thead>\n",
       "  <tbody>\n",
       "    <tr>\n",
       "      <th>12385</th>\n",
       "      <td>2021-08-29 14:12:00</td>\n",
       "      <td>2583</td>\n",
       "      <td>XCB</td>\n",
       "      <td>XCB</td>\n",
       "      <td>23</td>\n",
       "      <td>2021-08-29 14:17:00</td>\n",
       "      <td>2021-08-29 14:18:00</td>\n",
       "      <td>6.0</td>\n",
       "      <td>5.0</td>\n",
       "      <td>1.0</td>\n",
       "      <td>1</td>\n",
       "    </tr>\n",
       "    <tr>\n",
       "      <th>49438</th>\n",
       "      <td>2021-12-09 13:27:00</td>\n",
       "      <td>92</td>\n",
       "      <td>CAX</td>\n",
       "      <td>CAX</td>\n",
       "      <td>91</td>\n",
       "      <td>2021-12-09 13:30:00</td>\n",
       "      <td>2021-12-09 13:37:00</td>\n",
       "      <td>10.0</td>\n",
       "      <td>3.0</td>\n",
       "      <td>7.0</td>\n",
       "      <td>1</td>\n",
       "    </tr>\n",
       "    <tr>\n",
       "      <th>49439</th>\n",
       "      <td>2021-12-09 13:27:00</td>\n",
       "      <td>92</td>\n",
       "      <td>CAX</td>\n",
       "      <td>CAX</td>\n",
       "      <td>91</td>\n",
       "      <td>2021-12-09 13:30:00</td>\n",
       "      <td>2021-12-09 13:37:00</td>\n",
       "      <td>10.0</td>\n",
       "      <td>3.0</td>\n",
       "      <td>7.0</td>\n",
       "      <td>1</td>\n",
       "    </tr>\n",
       "  </tbody>\n",
       "</table>\n",
       "</div>"
      ],
      "text/plain": [
       "            ActualArrival  FlightNumber Origin Destination  ExpectedBagsCount  \\\n",
       "12385 2021-08-29 14:12:00          2583    XCB         XCB                 23   \n",
       "49438 2021-12-09 13:27:00            92    CAX         CAX                 91   \n",
       "49439 2021-12-09 13:27:00            92    CAX         CAX                 91   \n",
       "\n",
       "         FirstBagDropTime     LastBagDropTime  DeliveryDurationMins  \\\n",
       "12385 2021-08-29 14:17:00 2021-08-29 14:18:00                   6.0   \n",
       "49438 2021-12-09 13:30:00 2021-12-09 13:37:00                  10.0   \n",
       "49439 2021-12-09 13:30:00 2021-12-09 13:37:00                  10.0   \n",
       "\n",
       "       Arrival_To_First  First_To_last  OnTimeSuccess  \n",
       "12385               5.0            1.0              1  \n",
       "49438               3.0            7.0              1  \n",
       "49439               3.0            7.0              1  "
      ]
     },
     "execution_count": 194,
     "metadata": {},
     "output_type": "execute_result"
    }
   ],
   "source": [
    "bad_rows['Origin Equals Destination'].head(3)"
   ]
  },
  {
   "cell_type": "code",
   "execution_count": 195,
   "id": "fdf843b6-5321-4d5e-9398-b35822a3589b",
   "metadata": {},
   "outputs": [
    {
     "data": {
      "text/html": [
       "<div>\n",
       "<style scoped>\n",
       "    .dataframe tbody tr th:only-of-type {\n",
       "        vertical-align: middle;\n",
       "    }\n",
       "\n",
       "    .dataframe tbody tr th {\n",
       "        vertical-align: top;\n",
       "    }\n",
       "\n",
       "    .dataframe thead th {\n",
       "        text-align: right;\n",
       "    }\n",
       "</style>\n",
       "<table border=\"1\" class=\"dataframe\">\n",
       "  <thead>\n",
       "    <tr style=\"text-align: right;\">\n",
       "      <th></th>\n",
       "      <th>ActualArrival</th>\n",
       "      <th>FlightNumber</th>\n",
       "      <th>Origin</th>\n",
       "      <th>Destination</th>\n",
       "      <th>ExpectedBagsCount</th>\n",
       "      <th>FirstBagDropTime</th>\n",
       "      <th>LastBagDropTime</th>\n",
       "      <th>DeliveryDurationMins</th>\n",
       "      <th>Arrival_To_First</th>\n",
       "      <th>First_To_last</th>\n",
       "      <th>OnTimeSuccess</th>\n",
       "    </tr>\n",
       "  </thead>\n",
       "  <tbody>\n",
       "    <tr>\n",
       "      <th>1007</th>\n",
       "      <td>2021-07-24 23:21:00</td>\n",
       "      <td>7262</td>\n",
       "      <td>FTU</td>\n",
       "      <td>YXY</td>\n",
       "      <td>108</td>\n",
       "      <td>2021-07-24 23:21:00</td>\n",
       "      <td>2021-07-24 23:21:00</td>\n",
       "      <td>0.0</td>\n",
       "      <td>0.0</td>\n",
       "      <td>0.0</td>\n",
       "      <td>1</td>\n",
       "    </tr>\n",
       "    <tr>\n",
       "      <th>8828</th>\n",
       "      <td>2021-08-17 16:15:00</td>\n",
       "      <td>6345</td>\n",
       "      <td>AAW</td>\n",
       "      <td>CYT</td>\n",
       "      <td>17</td>\n",
       "      <td>2021-08-17 16:15:00</td>\n",
       "      <td>2021-08-17 16:15:00</td>\n",
       "      <td>0.0</td>\n",
       "      <td>0.0</td>\n",
       "      <td>0.0</td>\n",
       "      <td>1</td>\n",
       "    </tr>\n",
       "    <tr>\n",
       "      <th>12851</th>\n",
       "      <td>2021-08-30 18:49:00</td>\n",
       "      <td>1075</td>\n",
       "      <td>AAW</td>\n",
       "      <td>XCB</td>\n",
       "      <td>2</td>\n",
       "      <td>2021-08-30 18:49:00</td>\n",
       "      <td>2021-08-30 18:49:00</td>\n",
       "      <td>0.0</td>\n",
       "      <td>0.0</td>\n",
       "      <td>0.0</td>\n",
       "      <td>1</td>\n",
       "    </tr>\n",
       "  </tbody>\n",
       "</table>\n",
       "</div>"
      ],
      "text/plain": [
       "            ActualArrival  FlightNumber Origin Destination  ExpectedBagsCount  \\\n",
       "1007  2021-07-24 23:21:00          7262    FTU         YXY                108   \n",
       "8828  2021-08-17 16:15:00          6345    AAW         CYT                 17   \n",
       "12851 2021-08-30 18:49:00          1075    AAW         XCB                  2   \n",
       "\n",
       "         FirstBagDropTime     LastBagDropTime  DeliveryDurationMins  \\\n",
       "1007  2021-07-24 23:21:00 2021-07-24 23:21:00                   0.0   \n",
       "8828  2021-08-17 16:15:00 2021-08-17 16:15:00                   0.0   \n",
       "12851 2021-08-30 18:49:00 2021-08-30 18:49:00                   0.0   \n",
       "\n",
       "       Arrival_To_First  First_To_last  OnTimeSuccess  \n",
       "1007                0.0            0.0              1  \n",
       "8828                0.0            0.0              1  \n",
       "12851               0.0            0.0              1  "
      ]
     },
     "execution_count": 195,
     "metadata": {},
     "output_type": "execute_result"
    }
   ],
   "source": [
    "bad_rows['Zero Delivery Duration w/ Bags'].head(3)"
   ]
  },
  {
   "cell_type": "markdown",
   "id": "e2cda747-1846-48b0-8342-a4bfe5ab49c1",
   "metadata": {},
   "source": [
    "# Descriptive and Summary Stats"
   ]
  },
  {
   "cell_type": "code",
   "execution_count": 197,
   "id": "84de55c2-d33b-4ec3-afc4-b461e8e8d42d",
   "metadata": {},
   "outputs": [
    {
     "data": {
      "text/plain": [
       "count    99174.000000\n",
       "mean        15.299191\n",
       "std          6.556163\n",
       "min          0.000000\n",
       "25%         11.000000\n",
       "50%         15.000000\n",
       "75%         19.000000\n",
       "max         39.000000\n",
       "Name: DeliveryDurationMins, dtype: float64"
      ]
     },
     "execution_count": 197,
     "metadata": {},
     "output_type": "execute_result"
    }
   ],
   "source": [
    "df['DeliveryDurationMins'].describe()"
   ]
  },
  {
   "cell_type": "code",
   "execution_count": 198,
   "id": "f02768f9-9c70-4e87-90bd-9a914e0d968d",
   "metadata": {},
   "outputs": [
    {
     "data": {
      "text/plain": [
       "count    99174.000000\n",
       "mean        52.276343\n",
       "std         37.902517\n",
       "min          0.000000\n",
       "25%         24.000000\n",
       "50%         43.000000\n",
       "75%         73.000000\n",
       "max        416.000000\n",
       "Name: ExpectedBagsCount, dtype: float64"
      ]
     },
     "execution_count": 198,
     "metadata": {},
     "output_type": "execute_result"
    }
   ],
   "source": [
    "df['ExpectedBagsCount'].describe()"
   ]
  },
  {
   "cell_type": "code",
   "execution_count": 199,
   "id": "6be812b8-86fe-4f4c-ac29-89343d61c1c1",
   "metadata": {
    "scrolled": true
   },
   "outputs": [
    {
     "data": {
      "text/plain": [
       "count                            99174\n",
       "mean     2021-12-05 02:34:00.497307648\n",
       "min                2021-07-22 08:26:00\n",
       "25%                2021-10-02 12:05:15\n",
       "50%                2021-12-09 19:37:30\n",
       "75%                2022-02-13 13:46:00\n",
       "max                2022-08-12 07:23:00\n",
       "Name: FirstBagDropTime, dtype: object"
      ]
     },
     "execution_count": 199,
     "metadata": {},
     "output_type": "execute_result"
    }
   ],
   "source": [
    "df['FirstBagDropTime'].describe()"
   ]
  },
  {
   "cell_type": "code",
   "execution_count": 200,
   "id": "6caf6cba-9e25-46fa-b927-c6582dba6f06",
   "metadata": {},
   "outputs": [
    {
     "data": {
      "text/plain": [
       "count                            99174\n",
       "mean     2021-12-05 02:37:25.538749952\n",
       "min                2021-07-22 08:29:00\n",
       "25%                2021-10-02 12:07:15\n",
       "50%                2021-12-09 19:40:00\n",
       "75%                2022-02-13 13:50:45\n",
       "max                2022-08-12 07:25:00\n",
       "Name: LastBagDropTime, dtype: object"
      ]
     },
     "execution_count": 200,
     "metadata": {},
     "output_type": "execute_result"
    }
   ],
   "source": [
    "df['LastBagDropTime'].describe()"
   ]
  },
  {
   "cell_type": "code",
   "execution_count": 201,
   "id": "3e8adef6-f7a5-47f5-892f-17ddb1de198d",
   "metadata": {},
   "outputs": [
    {
     "data": {
      "text/plain": [
       "<Axes: >"
      ]
     },
     "execution_count": 201,
     "metadata": {},
     "output_type": "execute_result"
    },
    {
     "data": {
      "image/png": "[encoded data removed]",
      "text/plain": [
       "<Figure size 640x480 with 1 Axes>"
      ]
     },
     "metadata": {},
     "output_type": "display_data"
    }
   ],
   "source": [
    "df['DeliveryDurationMins'].hist(bins=50)"
   ]
  },
  {
   "cell_type": "markdown",
   "id": "df38fe49-cd5b-41f1-8a1d-18ffe5c4a721",
   "metadata": {},
   "source": [
    "# Cleaning"
   ]
  },
  {
   "cell_type": "code",
   "execution_count": 203,
   "id": "80d5e272-ae4a-4af6-8ea0-55a5082e9cf3",
   "metadata": {},
   "outputs": [],
   "source": [
    "df = df.drop_duplicates()\n"
   ]
  },
  {
   "cell_type": "code",
   "execution_count": 204,
   "id": "e5c6c098-ba2f-40fe-a608-a42d7decdc35",
   "metadata": {},
   "outputs": [
    {
     "data": {
      "text/plain": [
       "(90794, 11)"
      ]
     },
     "execution_count": 204,
     "metadata": {},
     "output_type": "execute_result"
    }
   ],
   "source": [
    "df_cleaned = df.drop_duplicates()\n",
    "df_cleaned.shape"
   ]
  },
  {
   "cell_type": "code",
   "execution_count": 205,
   "id": "69520ae1-64bf-47d9-acae-98410f7c3b85",
   "metadata": {},
   "outputs": [
    {
     "data": {
      "text/plain": [
       "(90690, 11)"
      ]
     },
     "execution_count": 205,
     "metadata": {},
     "output_type": "execute_result"
    }
   ],
   "source": [
    "df_cleaned = df_cleaned[~((df_cleaned['ExpectedBagsCount'] > 0) & (df_cleaned['DeliveryDurationMins'] == 0))]\n",
    "df_cleaned.shape"
   ]
  },
  {
   "cell_type": "code",
   "execution_count": 206,
   "id": "dde5abf3-1506-4f5f-b2f6-463bcfa725f3",
   "metadata": {},
   "outputs": [
    {
     "name": "stdout",
     "output_type": "stream",
     "text": [
      "=== AUDIT SUMMARY ===\n",
      "                                     Issue Count\n",
      "Check                                           \n",
      "Invalid Bag Drop Order                         0\n",
      "Bags Delivered Before Arrival                  0\n",
      "Negative Expected Bag Count                    0\n",
      "Rows with Missing Fields                       0\n",
      "Exact Duplicate Rows                           0\n",
      "Duplicate Flight Entries                      22\n",
      "Origin Equals Destination                     21\n",
      "Bag Drop Times with 0 Expected Bags           68\n",
      "Zero Delivery Duration w/ Bags                 0\n"
     ]
    }
   ],
   "source": [
    "audit_df, bad_rows = audit_baggage_data(df_cleaned)\n",
    "\n",
    "print(\"=== AUDIT SUMMARY ===\")\n",
    "print(audit_df)"
   ]
  },
  {
   "cell_type": "code",
   "execution_count": 207,
   "id": "4df720d9-e264-447a-830c-207154114f17",
   "metadata": {},
   "outputs": [
    {
     "data": {
      "text/plain": [
       "count    90690.000000\n",
       "mean        15.549939\n",
       "std          6.504967\n",
       "min          1.000000\n",
       "25%         11.000000\n",
       "50%         15.000000\n",
       "75%         19.000000\n",
       "max         39.000000\n",
       "Name: DeliveryDurationMins, dtype: float64"
      ]
     },
     "execution_count": 207,
     "metadata": {},
     "output_type": "execute_result"
    }
   ],
   "source": [
    "df_cleaned['DeliveryDurationMins'].describe()"
   ]
  },
  {
   "cell_type": "markdown",
   "id": "ecafa823-27d1-4cc6-8cb4-46280d9c747e",
   "metadata": {},
   "source": [
    "# Empirical Approach"
   ]
  },
  {
   "cell_type": "code",
   "execution_count": 209,
   "id": "b55b3272-8d04-4159-8066-f14bad27824a",
   "metadata": {},
   "outputs": [
    {
     "name": "stdout",
     "output_type": "stream",
     "text": [
      "Estimated P(Delivery < 21 min): 0.8162\n",
      "90690 74023\n"
     ]
    }
   ],
   "source": [
    "# Total number of rows\n",
    "total_rows = len(df_cleaned)\n",
    "\n",
    "# Count of deliveries less than 21 minutes\n",
    "count_under_21 = (df_cleaned['DeliveryDurationMins'] < 21).sum()\n",
    "\n",
    "# Proportion (probability estimate)\n",
    "empirical_probability = count_under_21 / total_rows\n",
    "\n",
    "print(f\"Estimated P(Delivery < 21 min): {empirical_probability:.4f}\") \n",
    "print(total_rows, count_under_21)"
   ]
  },
  {
   "cell_type": "code",
   "execution_count": 210,
   "id": "c25589d1-af22-4b33-9002-90347bcb1c3a",
   "metadata": {},
   "outputs": [
    {
     "data": {
      "image/png": "[encoded data removed]",
      "text/plain": [
       "<Figure size 600x400 with 1 Axes>"
      ]
     },
     "metadata": {},
     "output_type": "display_data"
    }
   ],
   "source": [
    "plt.figure(figsize=(6, 4))\n",
    "df_cleaned['OnTimeSuccess'].value_counts().sort_index().plot(kind='bar', color=['tomato', 'seagreen'])\n",
    "\n",
    "plt.title('Frequency of On-Time Success (<21 min)')\n",
    "plt.xlabel('On-Time Success (0 = No, 1 = Yes)')\n",
    "plt.ylabel('Count')\n",
    "plt.xticks([0, 1], ['Fail (≥21)', 'Success (<21)'], rotation=0)\n",
    "plt.grid(axis='y', linestyle='--', alpha=0.6)\n",
    "\n",
    "plt.tight_layout()\n",
    "plt.show()"
   ]
  },
  {
   "cell_type": "code",
   "execution_count": 211,
   "id": "79a664a6-1d3a-4635-aa68-ffb4c5d04504",
   "metadata": {},
   "outputs": [
    {
     "name": "stdout",
     "output_type": "stream",
     "text": [
      "P(at least 70 on-time deliveries out of 100): 0.9984\n"
     ]
    }
   ],
   "source": [
    "n = 100\n",
    "p = 0.8162\n",
    "k = 70  # threshold for \"at least\"\n",
    "\n",
    "# P(X ≥ 90) = 1 - P(X ≤ 89)\n",
    "prob = 1 - binom.cdf(k - 1, n, p)\n",
    "\n",
    "print(f\"P(at least {k} on-time deliveries out of {n}): {prob:.4f}\")"
   ]
  },
  {
   "cell_type": "markdown",
   "id": "cf5dae4a-59bd-47bf-8f4d-df2ce0197e4c",
   "metadata": {},
   "source": [
    "# Theoretical"
   ]
  },
  {
   "cell_type": "code",
   "execution_count": 213,
   "id": "f48314e7-f7ef-459a-886d-497e5e11c54f",
   "metadata": {},
   "outputs": [
    {
     "data": {
      "image/png": "[encoded data removed]",
      "text/plain": [
       "<Figure size 1400x600 with 2 Axes>"
      ]
     },
     "metadata": {},
     "output_type": "display_data"
    }
   ],
   "source": [
    "fig, axes = plt.subplots(1, 2, figsize=(14, 6))  \n",
    "# 1 row, 2 columns of plots\n",
    "plot = df_cleaned.DeliveryDurationMins\n",
    "# Raw delivery duration\n",
    "axes[0].hist(plot, bins=30, edgecolor='black', alpha=0.7)\n",
    "axes[0].set_title('Histogram of Delivery Durations (in Minutes)', fontsize=16)\n",
    "axes[0].set_xlabel('Delivery Duration (Minutes)', fontsize=14)\n",
    "axes[0].set_ylabel('Frequency', fontsize=14)\n",
    "\n",
    "axes[0].grid(axis='y', linestyle='--', alpha=0.6)\n",
    "\n",
    "# Log-transformed delivery duration\n",
    "plot_log = np.log(df_cleaned.DeliveryDurationMins)\n",
    "axes[1].hist(plot_log, bins=30, edgecolor='black', alpha=0.7)\n",
    "axes[1].set_title('Histogram of Log-Transformed Delivery Durations', fontsize=16)\n",
    "axes[1].set_xlabel('Log(Delivery Duration in Minutes)', fontsize=14)\n",
    "axes[1].set_ylabel('Frequency', fontsize=14)\n",
    "axes[1].grid(axis='y', linestyle='--', alpha=0.6)\n",
    "\n",
    "plt.tight_layout()  \n",
    "plt.savefig(\"my_plot.png\", dpi=300)\n",
    "\n",
    "plt.show()"
   ]
  },
  {
   "cell_type": "markdown",
   "id": "539f1098-d502-4cf7-bd32-361a961428c6",
   "metadata": {},
   "source": [
    "- Distribution looks somewhat normal, but long tail right-skewness makes case for testing log-normal distribution too\n",
    "\n"
   ]
  },
  {
   "cell_type": "markdown",
   "id": "b93720e4-bd0f-43c5-9a5d-a24dc650007f",
   "metadata": {},
   "source": [
    "- Looks somewhat normal again, this time left skewed\n",
    "- Perform statistical tests to compare which is the more normal one to fit Normal distribution"
   ]
  },
  {
   "cell_type": "code",
   "execution_count": 216,
   "id": "e6a7efe5-0b7c-4cda-98bc-a3feea9a88d6",
   "metadata": {},
   "outputs": [
    {
     "name": "stderr",
     "output_type": "stream",
     "text": [
      "/opt/anaconda3/lib/python3.12/site-packages/scipy/stats/_axis_nan_policy.py:531: UserWarning: scipy.stats.shapiro: For N > 5000, computed p-value may not be accurate. Current N is 90690.\n",
      "  res = hypotest_fun_out(*samples, **kwds)\n"
     ]
    }
   ],
   "source": [
    "# Shapiro-Wilk\n",
    "shapiro_raw = shapiro(plot)\n",
    "shapiro_log = shapiro(plot_log)\n",
    "\n",
    "# Anderson-Darling\n",
    "anderson_raw = anderson(plot, dist='norm')\n",
    "anderson_log = anderson(plot_log, dist='norm')\n",
    "\n",
    "# D’Agostino’s K²\n",
    "dagostino_raw = normaltest(plot)\n",
    "dagostino_log = normaltest(plot_log)\n",
    "\n",
    "# Skewness and Kurtosis\n",
    "metrics = {\n",
    "    'Raw Skewness': skew(plot),\n",
    "    'Log Skewness': skew(plot_log),\n",
    "    'Raw Kurtosis': kurtosis(plot),\n",
    "    'Log Kurtosis': kurtosis(plot_log)  # excess kurtosis\n",
    "}"
   ]
  },
  {
   "cell_type": "code",
   "execution_count": 217,
   "id": "6d6148a2-094c-4b14-8a39-f032368bc89f",
   "metadata": {},
   "outputs": [
    {
     "name": "stdout",
     "output_type": "stream",
     "text": [
      "Shapiro-Wilk Test:\n",
      "  Raw: Statistic = 0.9669, p-value = 2.991e-82\n",
      "  Log: Statistic = 0.9488, p-value = 9.533e-93\n",
      "\n",
      "Anderson-Darling Test:\n",
      "  Raw: Statistic = 701.65, Critical = [0.576 0.656 0.787 0.918 1.092]\n",
      "  Log: Statistic = 728.84, Critical = [0.576 0.656 0.787 0.918 1.092]\n",
      "\n",
      "D’Agostino’s K² Test:\n",
      "  Raw: Statistic = 8037.21, p-value = 0\n",
      "  Log: Statistic = 18159.75, p-value = 0\n",
      "\n",
      "Skewness and Kurtosis:\n",
      "{'Raw Skewness': 0.7424530536482606, 'Log Skewness': -1.0492929348068154, 'Raw Kurtosis': 0.8243007377743252, 'Log Kurtosis': 3.122222359623211}\n"
     ]
    }
   ],
   "source": [
    "print(\"Shapiro-Wilk Test:\")\n",
    "print(f\"  Raw: Statistic = {shapiro_raw.statistic:.4f}, p-value = {shapiro_raw.pvalue:.4g}\")\n",
    "print(f\"  Log: Statistic = {shapiro_log.statistic:.4f}, p-value = {shapiro_log.pvalue:.4g}\")\n",
    "\n",
    "print(\"\\nAnderson-Darling Test:\")\n",
    "print(f\"  Raw: Statistic = {anderson_raw.statistic:.2f}, Critical = {anderson_raw.critical_values}\")\n",
    "print(f\"  Log: Statistic = {anderson_log.statistic:.2f}, Critical = {anderson_log.critical_values}\")\n",
    "\n",
    "print(\"\\nD’Agostino’s K² Test:\")\n",
    "print(f\"  Raw: Statistic = {dagostino_raw.statistic:.2f}, p-value = {dagostino_raw.pvalue:.4g}\")\n",
    "print(f\"  Log: Statistic = {dagostino_log.statistic:.2f}, p-value = {dagostino_log.pvalue:.4g}\")\n",
    "\n",
    "print(\"\\nSkewness and Kurtosis:\")\n",
    "print(metrics)"
   ]
  },
  {
   "cell_type": "code",
   "execution_count": 218,
   "id": "d0f511b5-78e3-4ed0-8607-191f62e7bd78",
   "metadata": {},
   "outputs": [],
   "source": [
    "threshold = np.log(21)"
   ]
  },
  {
   "cell_type": "code",
   "execution_count": 219,
   "id": "38545cd5-b239-4e4c-9375-b6ff46d41104",
   "metadata": {},
   "outputs": [],
   "source": [
    "mu = plot_log.mean()\n",
    "sigma = plot_log.std()"
   ]
  },
  {
   "cell_type": "code",
   "execution_count": 220,
   "id": "b97e19f3-df6d-4fa4-96e9-6fb744e25509",
   "metadata": {},
   "outputs": [
    {
     "name": "stdout",
     "output_type": "stream",
     "text": [
      "0.846683783876757\n"
     ]
    }
   ],
   "source": [
    "print((threshold - mu) / sigma)"
   ]
  },
  {
   "cell_type": "code",
   "execution_count": 221,
   "id": "52eda7bb-a393-4d58-8823-42bde2ba39f6",
   "metadata": {},
   "outputs": [
    {
     "name": "stdout",
     "output_type": "stream",
     "text": [
      "    DeliveryDurationMins  Count\n",
      "0                    1.0    203\n",
      "1                    2.0    333\n",
      "2                    3.0    547\n",
      "3                    4.0    816\n",
      "4                    5.0   1186\n",
      "5                    6.0   1748\n",
      "6                    7.0   2557\n",
      "7                    8.0   3289\n",
      "8                    9.0   4244\n",
      "9                   10.0   4911\n",
      "10                  11.0   5499\n",
      "11                  12.0   5988\n",
      "12                  13.0   6020\n",
      "13                  14.0   6019\n",
      "14                  15.0   5995\n",
      "15                  16.0   5578\n",
      "16                  17.0   5220\n",
      "17                  18.0   4805\n",
      "18                  19.0   4778\n",
      "19                  20.0   4287\n",
      "20                  21.0   2613\n",
      "21                  22.0   2227\n",
      "22                  23.0   1824\n",
      "23                  24.0   1587\n",
      "24                  25.0   1363\n",
      "25                  26.0   1222\n",
      "26                  27.0   1003\n",
      "27                  28.0    838\n",
      "28                  29.0    690\n",
      "29                  30.0    621\n",
      "30                  31.0    476\n",
      "31                  32.0    405\n",
      "32                  33.0    366\n",
      "33                  34.0    292\n",
      "34                  35.0    277\n",
      "35                  36.0    248\n",
      "36                  37.0    180\n",
      "37                  38.0    190\n",
      "38                  39.0    245\n"
     ]
    }
   ],
   "source": [
    "duration_counts = df_cleaned['DeliveryDurationMins'].value_counts().sort_index().reset_index()\n",
    "duration_counts.columns = ['DeliveryDurationMins', 'Count']\n",
    "\n",
    "# Display the result\n",
    "print(duration_counts)"
   ]
  },
  {
   "cell_type": "code",
   "execution_count": 222,
   "id": "9d3a531f-c039-4f43-a27e-728bd86cbaa0",
   "metadata": {},
   "outputs": [],
   "source": [
    "### Normal Distribution Model"
   ]
  },
  {
   "cell_type": "code",
   "execution_count": 223,
   "id": "ee6544d1-f2fb-4d12-b408-1959cfe81fc1",
   "metadata": {},
   "outputs": [
    {
     "data": {
      "text/plain": [
       "count    90690.000000\n",
       "mean         2.647437\n",
       "std          0.468989\n",
       "min          0.000000\n",
       "25%          2.397895\n",
       "50%          2.708050\n",
       "75%          2.944439\n",
       "max          3.663562\n",
       "Name: DeliveryDurationMins, dtype: float64"
      ]
     },
     "execution_count": 223,
     "metadata": {},
     "output_type": "execute_result"
    }
   ],
   "source": [
    "plot_log.describe()"
   ]
  },
  {
   "cell_type": "code",
   "execution_count": 224,
   "id": "1a4d0cf0-ad53-4092-9e92-e49e9128328b",
   "metadata": {},
   "outputs": [
    {
     "data": {
      "text/plain": [
       "0.7989370865992127"
      ]
     },
     "execution_count": 224,
     "metadata": {},
     "output_type": "execute_result"
    }
   ],
   "source": [
    "norm_mean = plot.describe()['mean']\n",
    "norm_std = plot.describe()['std']\n",
    "cutoff = 21\n",
    "prob_norm = norm.cdf(cutoff,loc=norm_mean,scale=norm_std)\n",
    "prob_norm"
   ]
  },
  {
   "cell_type": "code",
   "execution_count": 225,
   "id": "1df97f26-6397-4986-b53c-b21e05f65ad2",
   "metadata": {},
   "outputs": [],
   "source": [
    "mean = df_cleaned['DeliveryDurationMins'].mean()\n",
    "std_sample = df_cleaned['DeliveryDurationMins'].std(ddof=1)      # default\n",
    "std_population = df_cleaned['DeliveryDurationMins'].std(ddof=0)  # for population"
   ]
  },
  {
   "cell_type": "code",
   "execution_count": 226,
   "id": "25f6b840-1a7b-4a7f-989f-93516994903d",
   "metadata": {},
   "outputs": [],
   "source": [
    "# df_cleaned.to_csv('cleaned_baggage_data.csv', index=False)"
   ]
  },
  {
   "cell_type": "code",
   "execution_count": 227,
   "id": "9c560bf6-1285-495e-8bd3-9692c24e5431",
   "metadata": {},
   "outputs": [
    {
     "data": {
      "text/plain": [
       "(6.504966964276491, 6.504931100427686)"
      ]
     },
     "execution_count": 227,
     "metadata": {},
     "output_type": "execute_result"
    }
   ],
   "source": [
    "std_sample, std_population"
   ]
  },
  {
   "cell_type": "code",
   "execution_count": 228,
   "id": "a044352d-078b-46cf-8489-19da217b8175",
   "metadata": {},
   "outputs": [
    {
     "data": {
      "text/plain": [
       "0.8014143001283945"
      ]
     },
     "execution_count": 228,
     "metadata": {},
     "output_type": "execute_result"
    }
   ],
   "source": [
    "norm_mean = plot_log.describe()['mean']\n",
    "norm_std = plot_log.describe()['std']\n",
    "cutoff = np.log(21)\n",
    "prob_lognorm = norm.cdf(cutoff,loc=norm_mean,scale=norm_std)\n",
    "prob_lognorm"
   ]
  },
  {
   "cell_type": "markdown",
   "id": "c29510ae-8568-4d75-9ce5-3e5c6ac3c2e5",
   "metadata": {},
   "source": [
    "# Confidence Intervals"
   ]
  },
  {
   "cell_type": "markdown",
   "id": "15e45f2e-2af3-4c59-a8a0-ec398956d719",
   "metadata": {},
   "source": [
    "- Develop a 95% confidence interval estimate for proportion of population of flights that succeed in meeting bag delivery threshold"
   ]
  },
  {
   "cell_type": "code",
   "execution_count": null,
   "id": "9e5d7f31-89b5-438c-8bb3-a680a6b15b7b",
   "metadata": {},
   "outputs": [],
   "source": []
  },
  {
   "cell_type": "code",
   "execution_count": 231,
   "id": "b56b72d4-afaf-4795-9778-418bcfea3dfc",
   "metadata": {},
   "outputs": [
    {
     "data": {
      "text/html": [
       "<div>\n",
       "<style scoped>\n",
       "    .dataframe tbody tr th:only-of-type {\n",
       "        vertical-align: middle;\n",
       "    }\n",
       "\n",
       "    .dataframe tbody tr th {\n",
       "        vertical-align: top;\n",
       "    }\n",
       "\n",
       "    .dataframe thead th {\n",
       "        text-align: right;\n",
       "    }\n",
       "</style>\n",
       "<table border=\"1\" class=\"dataframe\">\n",
       "  <thead>\n",
       "    <tr style=\"text-align: right;\">\n",
       "      <th></th>\n",
       "      <th>ActualArrival</th>\n",
       "      <th>FlightNumber</th>\n",
       "      <th>Origin</th>\n",
       "      <th>Destination</th>\n",
       "      <th>ExpectedBagsCount</th>\n",
       "      <th>FirstBagDropTime</th>\n",
       "      <th>LastBagDropTime</th>\n",
       "      <th>DeliveryDurationMins</th>\n",
       "      <th>Arrival_To_First</th>\n",
       "      <th>First_To_last</th>\n",
       "      <th>OnTimeSuccess</th>\n",
       "    </tr>\n",
       "  </thead>\n",
       "  <tbody>\n",
       "    <tr>\n",
       "      <th>784</th>\n",
       "      <td>2021-07-24 13:50:00</td>\n",
       "      <td>7275</td>\n",
       "      <td>AAW</td>\n",
       "      <td>XCB</td>\n",
       "      <td>34</td>\n",
       "      <td>2021-07-24 13:50:00</td>\n",
       "      <td>2021-07-24 13:51:00</td>\n",
       "      <td>1.0</td>\n",
       "      <td>0.0</td>\n",
       "      <td>1.0</td>\n",
       "      <td>1</td>\n",
       "    </tr>\n",
       "    <tr>\n",
       "      <th>1007</th>\n",
       "      <td>2021-07-24 23:21:00</td>\n",
       "      <td>7262</td>\n",
       "      <td>FTU</td>\n",
       "      <td>YXY</td>\n",
       "      <td>108</td>\n",
       "      <td>2021-07-24 23:21:00</td>\n",
       "      <td>2021-07-24 23:21:00</td>\n",
       "      <td>0.0</td>\n",
       "      <td>0.0</td>\n",
       "      <td>0.0</td>\n",
       "      <td>1</td>\n",
       "    </tr>\n",
       "    <tr>\n",
       "      <th>2351</th>\n",
       "      <td>2021-07-28 18:01:00</td>\n",
       "      <td>336</td>\n",
       "      <td>WWT</td>\n",
       "      <td>WUY</td>\n",
       "      <td>17</td>\n",
       "      <td>2021-07-28 18:01:00</td>\n",
       "      <td>2021-07-28 18:02:00</td>\n",
       "      <td>1.0</td>\n",
       "      <td>0.0</td>\n",
       "      <td>1.0</td>\n",
       "      <td>1</td>\n",
       "    </tr>\n",
       "    <tr>\n",
       "      <th>4331</th>\n",
       "      <td>2021-08-02 18:52:00</td>\n",
       "      <td>1075</td>\n",
       "      <td>AAW</td>\n",
       "      <td>XCB</td>\n",
       "      <td>3</td>\n",
       "      <td>2021-08-02 18:53:00</td>\n",
       "      <td>2021-08-02 18:53:00</td>\n",
       "      <td>1.0</td>\n",
       "      <td>1.0</td>\n",
       "      <td>0.0</td>\n",
       "      <td>1</td>\n",
       "    </tr>\n",
       "    <tr>\n",
       "      <th>4466</th>\n",
       "      <td>2021-08-03 08:59:00</td>\n",
       "      <td>1816</td>\n",
       "      <td>AAW</td>\n",
       "      <td>CYT</td>\n",
       "      <td>5</td>\n",
       "      <td>2021-08-03 09:00:00</td>\n",
       "      <td>2021-08-03 09:01:00</td>\n",
       "      <td>2.0</td>\n",
       "      <td>1.0</td>\n",
       "      <td>1.0</td>\n",
       "      <td>1</td>\n",
       "    </tr>\n",
       "    <tr>\n",
       "      <th>...</th>\n",
       "      <td>...</td>\n",
       "      <td>...</td>\n",
       "      <td>...</td>\n",
       "      <td>...</td>\n",
       "      <td>...</td>\n",
       "      <td>...</td>\n",
       "      <td>...</td>\n",
       "      <td>...</td>\n",
       "      <td>...</td>\n",
       "      <td>...</td>\n",
       "      <td>...</td>\n",
       "    </tr>\n",
       "    <tr>\n",
       "      <th>98255</th>\n",
       "      <td>2022-03-15 19:11:00</td>\n",
       "      <td>3760</td>\n",
       "      <td>VUW</td>\n",
       "      <td>XCB</td>\n",
       "      <td>29</td>\n",
       "      <td>2022-03-15 19:11:00</td>\n",
       "      <td>2022-03-15 19:12:00</td>\n",
       "      <td>1.0</td>\n",
       "      <td>0.0</td>\n",
       "      <td>1.0</td>\n",
       "      <td>1</td>\n",
       "    </tr>\n",
       "    <tr>\n",
       "      <th>98534</th>\n",
       "      <td>2022-03-16 08:07:00</td>\n",
       "      <td>144</td>\n",
       "      <td>WET</td>\n",
       "      <td>XCB</td>\n",
       "      <td>36</td>\n",
       "      <td>2022-03-16 08:07:00</td>\n",
       "      <td>2022-03-16 08:08:00</td>\n",
       "      <td>1.0</td>\n",
       "      <td>0.0</td>\n",
       "      <td>1.0</td>\n",
       "      <td>1</td>\n",
       "    </tr>\n",
       "    <tr>\n",
       "      <th>98630</th>\n",
       "      <td>2022-03-16 10:30:00</td>\n",
       "      <td>192</td>\n",
       "      <td>FTU</td>\n",
       "      <td>XCB</td>\n",
       "      <td>41</td>\n",
       "      <td>2022-03-16 10:30:00</td>\n",
       "      <td>2022-03-16 10:30:00</td>\n",
       "      <td>0.0</td>\n",
       "      <td>0.0</td>\n",
       "      <td>0.0</td>\n",
       "      <td>1</td>\n",
       "    </tr>\n",
       "    <tr>\n",
       "      <th>98816</th>\n",
       "      <td>2022-03-16 14:09:00</td>\n",
       "      <td>3469</td>\n",
       "      <td>CUT</td>\n",
       "      <td>XCB</td>\n",
       "      <td>37</td>\n",
       "      <td>2022-03-16 14:09:00</td>\n",
       "      <td>2022-03-16 14:11:00</td>\n",
       "      <td>2.0</td>\n",
       "      <td>0.0</td>\n",
       "      <td>2.0</td>\n",
       "      <td>1</td>\n",
       "    </tr>\n",
       "    <tr>\n",
       "      <th>98861</th>\n",
       "      <td>2022-03-16 14:41:00</td>\n",
       "      <td>2841</td>\n",
       "      <td>WCX</td>\n",
       "      <td>XCB</td>\n",
       "      <td>13</td>\n",
       "      <td>2022-03-16 14:41:00</td>\n",
       "      <td>2022-03-16 14:41:00</td>\n",
       "      <td>0.0</td>\n",
       "      <td>0.0</td>\n",
       "      <td>0.0</td>\n",
       "      <td>1</td>\n",
       "    </tr>\n",
       "  </tbody>\n",
       "</table>\n",
       "<p>640 rows × 11 columns</p>\n",
       "</div>"
      ],
      "text/plain": [
       "            ActualArrival  FlightNumber Origin Destination  ExpectedBagsCount  \\\n",
       "784   2021-07-24 13:50:00          7275    AAW         XCB                 34   \n",
       "1007  2021-07-24 23:21:00          7262    FTU         YXY                108   \n",
       "2351  2021-07-28 18:01:00           336    WWT         WUY                 17   \n",
       "4331  2021-08-02 18:52:00          1075    AAW         XCB                  3   \n",
       "4466  2021-08-03 08:59:00          1816    AAW         CYT                  5   \n",
       "...                   ...           ...    ...         ...                ...   \n",
       "98255 2022-03-15 19:11:00          3760    VUW         XCB                 29   \n",
       "98534 2022-03-16 08:07:00           144    WET         XCB                 36   \n",
       "98630 2022-03-16 10:30:00           192    FTU         XCB                 41   \n",
       "98816 2022-03-16 14:09:00          3469    CUT         XCB                 37   \n",
       "98861 2022-03-16 14:41:00          2841    WCX         XCB                 13   \n",
       "\n",
       "         FirstBagDropTime     LastBagDropTime  DeliveryDurationMins  \\\n",
       "784   2021-07-24 13:50:00 2021-07-24 13:51:00                   1.0   \n",
       "1007  2021-07-24 23:21:00 2021-07-24 23:21:00                   0.0   \n",
       "2351  2021-07-28 18:01:00 2021-07-28 18:02:00                   1.0   \n",
       "4331  2021-08-02 18:53:00 2021-08-02 18:53:00                   1.0   \n",
       "4466  2021-08-03 09:00:00 2021-08-03 09:01:00                   2.0   \n",
       "...                   ...                 ...                   ...   \n",
       "98255 2022-03-15 19:11:00 2022-03-15 19:12:00                   1.0   \n",
       "98534 2022-03-16 08:07:00 2022-03-16 08:08:00                   1.0   \n",
       "98630 2022-03-16 10:30:00 2022-03-16 10:30:00                   0.0   \n",
       "98816 2022-03-16 14:09:00 2022-03-16 14:11:00                   2.0   \n",
       "98861 2022-03-16 14:41:00 2022-03-16 14:41:00                   0.0   \n",
       "\n",
       "       Arrival_To_First  First_To_last  OnTimeSuccess  \n",
       "784                 0.0            1.0              1  \n",
       "1007                0.0            0.0              1  \n",
       "2351                0.0            1.0              1  \n",
       "4331                1.0            0.0              1  \n",
       "4466                1.0            1.0              1  \n",
       "...                 ...            ...            ...  \n",
       "98255               0.0            1.0              1  \n",
       "98534               0.0            1.0              1  \n",
       "98630               0.0            0.0              1  \n",
       "98816               0.0            2.0              1  \n",
       "98861               0.0            0.0              1  \n",
       "\n",
       "[640 rows x 11 columns]"
      ]
     },
     "execution_count": 231,
     "metadata": {},
     "output_type": "execute_result"
    }
   ],
   "source": [
    "df[df.DeliveryDurationMins<3]"
   ]
  },
  {
   "cell_type": "markdown",
   "id": "315dd9f3-fb2e-4020-b188-17d6dcf5b18c",
   "metadata": {},
   "source": [
    "# Hypothesis Tests"
   ]
  },
  {
   "cell_type": "markdown",
   "id": "942c14aa-6856-415c-a8b1-374a554d57f2",
   "metadata": {},
   "source": [
    "# Phase 2: Cleaning Data via ML-based Imputation"
   ]
  },
  {
   "cell_type": "code",
   "execution_count": 234,
   "id": "ec561c6c-7ef1-435d-a584-7c9f4c793a35",
   "metadata": {},
   "outputs": [],
   "source": [
    "# 2 Cases for Cleaning Data: \n",
    "\n",
    "#1: ExpectedBags == 0 but DeliveryDurationMins > 0 (there are 0 bags but somehow a delivery time), \n",
    "# use delivery time to predict actual number of bags\n",
    "\n",
    "#2: ExpectedBags > 0 but DeliveryDurationMins == 0 (there are bags, but somehow no delivery time),\n",
    "# use number of bags to predict delivery time."
   ]
  },
  {
   "cell_type": "code",
   "execution_count": 235,
   "id": "7a4e2781-dccf-41da-b016-e3fc183b8382",
   "metadata": {},
   "outputs": [
    {
     "data": {
      "text/html": [
       "<div>\n",
       "<style scoped>\n",
       "    .dataframe tbody tr th:only-of-type {\n",
       "        vertical-align: middle;\n",
       "    }\n",
       "\n",
       "    .dataframe tbody tr th {\n",
       "        vertical-align: top;\n",
       "    }\n",
       "\n",
       "    .dataframe thead th {\n",
       "        text-align: right;\n",
       "    }\n",
       "</style>\n",
       "<table border=\"1\" class=\"dataframe\">\n",
       "  <thead>\n",
       "    <tr style=\"text-align: right;\">\n",
       "      <th></th>\n",
       "      <th>ActualArrival</th>\n",
       "      <th>FlightNumber</th>\n",
       "      <th>Origin</th>\n",
       "      <th>Destination</th>\n",
       "      <th>ExpectedBagsCount</th>\n",
       "      <th>FirstBagDropTime</th>\n",
       "      <th>LastBagDropTime</th>\n",
       "      <th>DeliveryDurationMins</th>\n",
       "      <th>Arrival_To_First</th>\n",
       "      <th>First_To_last</th>\n",
       "      <th>...</th>\n",
       "      <th>arrival_dow</th>\n",
       "      <th>is_weekend</th>\n",
       "      <th>arrival_month</th>\n",
       "      <th>arrival_year</th>\n",
       "      <th>arrival_to_first_ratio</th>\n",
       "      <th>first_to_last_ratio</th>\n",
       "      <th>flight_freq</th>\n",
       "      <th>origin_freq</th>\n",
       "      <th>dest_freq</th>\n",
       "      <th>arrival_hour_x_duration</th>\n",
       "    </tr>\n",
       "  </thead>\n",
       "  <tbody>\n",
       "    <tr>\n",
       "      <th>0</th>\n",
       "      <td>2021-07-22 08:20:00</td>\n",
       "      <td>8390</td>\n",
       "      <td>EVF</td>\n",
       "      <td>YZU</td>\n",
       "      <td>6</td>\n",
       "      <td>2021-07-22 08:29:00</td>\n",
       "      <td>2021-07-22 08:29:00</td>\n",
       "      <td>9.0</td>\n",
       "      <td>9.0</td>\n",
       "      <td>0.0</td>\n",
       "      <td>...</td>\n",
       "      <td>3</td>\n",
       "      <td>0</td>\n",
       "      <td>7</td>\n",
       "      <td>2021</td>\n",
       "      <td>1.000000</td>\n",
       "      <td>0.000000</td>\n",
       "      <td>90</td>\n",
       "      <td>1423</td>\n",
       "      <td>5256</td>\n",
       "      <td>72.0</td>\n",
       "    </tr>\n",
       "    <tr>\n",
       "      <th>1</th>\n",
       "      <td>2021-07-22 08:20:00</td>\n",
       "      <td>6898</td>\n",
       "      <td>CYT</td>\n",
       "      <td>YZU</td>\n",
       "      <td>24</td>\n",
       "      <td>2021-07-22 08:30:00</td>\n",
       "      <td>2021-07-22 08:31:00</td>\n",
       "      <td>11.0</td>\n",
       "      <td>10.0</td>\n",
       "      <td>1.0</td>\n",
       "      <td>...</td>\n",
       "      <td>3</td>\n",
       "      <td>0</td>\n",
       "      <td>7</td>\n",
       "      <td>2021</td>\n",
       "      <td>0.909091</td>\n",
       "      <td>0.090909</td>\n",
       "      <td>40</td>\n",
       "      <td>4345</td>\n",
       "      <td>5256</td>\n",
       "      <td>88.0</td>\n",
       "    </tr>\n",
       "    <tr>\n",
       "      <th>2</th>\n",
       "      <td>2021-07-22 08:20:00</td>\n",
       "      <td>3095</td>\n",
       "      <td>YZU</td>\n",
       "      <td>EVF</td>\n",
       "      <td>27</td>\n",
       "      <td>2021-07-22 08:26:00</td>\n",
       "      <td>2021-07-22 08:29:00</td>\n",
       "      <td>9.0</td>\n",
       "      <td>6.0</td>\n",
       "      <td>3.0</td>\n",
       "      <td>...</td>\n",
       "      <td>3</td>\n",
       "      <td>0</td>\n",
       "      <td>7</td>\n",
       "      <td>2021</td>\n",
       "      <td>0.666667</td>\n",
       "      <td>0.333333</td>\n",
       "      <td>198</td>\n",
       "      <td>5370</td>\n",
       "      <td>1656</td>\n",
       "      <td>72.0</td>\n",
       "    </tr>\n",
       "    <tr>\n",
       "      <th>3</th>\n",
       "      <td>2021-07-22 08:31:00</td>\n",
       "      <td>4821</td>\n",
       "      <td>CYT</td>\n",
       "      <td>YUX</td>\n",
       "      <td>17</td>\n",
       "      <td>2021-07-22 08:41:00</td>\n",
       "      <td>2021-07-22 08:45:00</td>\n",
       "      <td>14.0</td>\n",
       "      <td>10.0</td>\n",
       "      <td>4.0</td>\n",
       "      <td>...</td>\n",
       "      <td>3</td>\n",
       "      <td>0</td>\n",
       "      <td>7</td>\n",
       "      <td>2021</td>\n",
       "      <td>0.714286</td>\n",
       "      <td>0.285714</td>\n",
       "      <td>24</td>\n",
       "      <td>4345</td>\n",
       "      <td>1162</td>\n",
       "      <td>112.0</td>\n",
       "    </tr>\n",
       "    <tr>\n",
       "      <th>4</th>\n",
       "      <td>2021-07-22 08:33:00</td>\n",
       "      <td>2512</td>\n",
       "      <td>EYT</td>\n",
       "      <td>YZU</td>\n",
       "      <td>32</td>\n",
       "      <td>2021-07-22 08:40:00</td>\n",
       "      <td>2021-07-22 08:42:00</td>\n",
       "      <td>9.0</td>\n",
       "      <td>7.0</td>\n",
       "      <td>2.0</td>\n",
       "      <td>...</td>\n",
       "      <td>3</td>\n",
       "      <td>0</td>\n",
       "      <td>7</td>\n",
       "      <td>2021</td>\n",
       "      <td>0.777778</td>\n",
       "      <td>0.222222</td>\n",
       "      <td>77</td>\n",
       "      <td>1302</td>\n",
       "      <td>5256</td>\n",
       "      <td>72.0</td>\n",
       "    </tr>\n",
       "    <tr>\n",
       "      <th>...</th>\n",
       "      <td>...</td>\n",
       "      <td>...</td>\n",
       "      <td>...</td>\n",
       "      <td>...</td>\n",
       "      <td>...</td>\n",
       "      <td>...</td>\n",
       "      <td>...</td>\n",
       "      <td>...</td>\n",
       "      <td>...</td>\n",
       "      <td>...</td>\n",
       "      <td>...</td>\n",
       "      <td>...</td>\n",
       "      <td>...</td>\n",
       "      <td>...</td>\n",
       "      <td>...</td>\n",
       "      <td>...</td>\n",
       "      <td>...</td>\n",
       "      <td>...</td>\n",
       "      <td>...</td>\n",
       "      <td>...</td>\n",
       "      <td>...</td>\n",
       "    </tr>\n",
       "    <tr>\n",
       "      <th>99169</th>\n",
       "      <td>2022-08-12 06:26:00</td>\n",
       "      <td>711</td>\n",
       "      <td>FXX</td>\n",
       "      <td>FTU</td>\n",
       "      <td>49</td>\n",
       "      <td>2022-08-12 06:50:00</td>\n",
       "      <td>2022-08-12 06:53:00</td>\n",
       "      <td>27.0</td>\n",
       "      <td>24.0</td>\n",
       "      <td>3.0</td>\n",
       "      <td>...</td>\n",
       "      <td>4</td>\n",
       "      <td>0</td>\n",
       "      <td>8</td>\n",
       "      <td>2022</td>\n",
       "      <td>0.888889</td>\n",
       "      <td>0.111111</td>\n",
       "      <td>96</td>\n",
       "      <td>450</td>\n",
       "      <td>20864</td>\n",
       "      <td>162.0</td>\n",
       "    </tr>\n",
       "    <tr>\n",
       "      <th>99170</th>\n",
       "      <td>2022-08-12 07:00:00</td>\n",
       "      <td>254</td>\n",
       "      <td>FTU</td>\n",
       "      <td>WET</td>\n",
       "      <td>31</td>\n",
       "      <td>2022-08-12 07:06:00</td>\n",
       "      <td>2022-08-12 07:08:00</td>\n",
       "      <td>8.0</td>\n",
       "      <td>6.0</td>\n",
       "      <td>2.0</td>\n",
       "      <td>...</td>\n",
       "      <td>4</td>\n",
       "      <td>0</td>\n",
       "      <td>8</td>\n",
       "      <td>2022</td>\n",
       "      <td>0.750000</td>\n",
       "      <td>0.250000</td>\n",
       "      <td>119</td>\n",
       "      <td>25942</td>\n",
       "      <td>8263</td>\n",
       "      <td>56.0</td>\n",
       "    </tr>\n",
       "    <tr>\n",
       "      <th>99171</th>\n",
       "      <td>2022-08-12 07:02:00</td>\n",
       "      <td>648</td>\n",
       "      <td>WWT</td>\n",
       "      <td>VYZ</td>\n",
       "      <td>72</td>\n",
       "      <td>2022-08-12 07:12:00</td>\n",
       "      <td>2022-08-12 07:16:00</td>\n",
       "      <td>14.0</td>\n",
       "      <td>10.0</td>\n",
       "      <td>4.0</td>\n",
       "      <td>...</td>\n",
       "      <td>4</td>\n",
       "      <td>0</td>\n",
       "      <td>8</td>\n",
       "      <td>2022</td>\n",
       "      <td>0.714286</td>\n",
       "      <td>0.285714</td>\n",
       "      <td>10</td>\n",
       "      <td>3935</td>\n",
       "      <td>866</td>\n",
       "      <td>98.0</td>\n",
       "    </tr>\n",
       "    <tr>\n",
       "      <th>99172</th>\n",
       "      <td>2022-08-12 07:14:00</td>\n",
       "      <td>5337</td>\n",
       "      <td>WET</td>\n",
       "      <td>WWA</td>\n",
       "      <td>14</td>\n",
       "      <td>2022-08-12 07:23:00</td>\n",
       "      <td>2022-08-12 07:25:00</td>\n",
       "      <td>11.0</td>\n",
       "      <td>9.0</td>\n",
       "      <td>2.0</td>\n",
       "      <td>...</td>\n",
       "      <td>4</td>\n",
       "      <td>0</td>\n",
       "      <td>8</td>\n",
       "      <td>2022</td>\n",
       "      <td>0.818182</td>\n",
       "      <td>0.181818</td>\n",
       "      <td>65</td>\n",
       "      <td>7507</td>\n",
       "      <td>1948</td>\n",
       "      <td>77.0</td>\n",
       "    </tr>\n",
       "    <tr>\n",
       "      <th>99173</th>\n",
       "      <td>2022-08-12 07:14:00</td>\n",
       "      <td>6883</td>\n",
       "      <td>FUX</td>\n",
       "      <td>XCB</td>\n",
       "      <td>23</td>\n",
       "      <td>2022-08-12 07:23:00</td>\n",
       "      <td>2022-08-12 07:24:00</td>\n",
       "      <td>10.0</td>\n",
       "      <td>9.0</td>\n",
       "      <td>1.0</td>\n",
       "      <td>...</td>\n",
       "      <td>4</td>\n",
       "      <td>0</td>\n",
       "      <td>8</td>\n",
       "      <td>2022</td>\n",
       "      <td>0.900000</td>\n",
       "      <td>0.100000</td>\n",
       "      <td>62</td>\n",
       "      <td>2331</td>\n",
       "      <td>5419</td>\n",
       "      <td>70.0</td>\n",
       "    </tr>\n",
       "  </tbody>\n",
       "</table>\n",
       "<p>90794 rows × 22 columns</p>\n",
       "</div>"
      ],
      "text/plain": [
       "            ActualArrival  FlightNumber Origin Destination  ExpectedBagsCount  \\\n",
       "0     2021-07-22 08:20:00          8390    EVF         YZU                  6   \n",
       "1     2021-07-22 08:20:00          6898    CYT         YZU                 24   \n",
       "2     2021-07-22 08:20:00          3095    YZU         EVF                 27   \n",
       "3     2021-07-22 08:31:00          4821    CYT         YUX                 17   \n",
       "4     2021-07-22 08:33:00          2512    EYT         YZU                 32   \n",
       "...                   ...           ...    ...         ...                ...   \n",
       "99169 2022-08-12 06:26:00           711    FXX         FTU                 49   \n",
       "99170 2022-08-12 07:00:00           254    FTU         WET                 31   \n",
       "99171 2022-08-12 07:02:00           648    WWT         VYZ                 72   \n",
       "99172 2022-08-12 07:14:00          5337    WET         WWA                 14   \n",
       "99173 2022-08-12 07:14:00          6883    FUX         XCB                 23   \n",
       "\n",
       "         FirstBagDropTime     LastBagDropTime  DeliveryDurationMins  \\\n",
       "0     2021-07-22 08:29:00 2021-07-22 08:29:00                   9.0   \n",
       "1     2021-07-22 08:30:00 2021-07-22 08:31:00                  11.0   \n",
       "2     2021-07-22 08:26:00 2021-07-22 08:29:00                   9.0   \n",
       "3     2021-07-22 08:41:00 2021-07-22 08:45:00                  14.0   \n",
       "4     2021-07-22 08:40:00 2021-07-22 08:42:00                   9.0   \n",
       "...                   ...                 ...                   ...   \n",
       "99169 2022-08-12 06:50:00 2022-08-12 06:53:00                  27.0   \n",
       "99170 2022-08-12 07:06:00 2022-08-12 07:08:00                   8.0   \n",
       "99171 2022-08-12 07:12:00 2022-08-12 07:16:00                  14.0   \n",
       "99172 2022-08-12 07:23:00 2022-08-12 07:25:00                  11.0   \n",
       "99173 2022-08-12 07:23:00 2022-08-12 07:24:00                  10.0   \n",
       "\n",
       "       Arrival_To_First  First_To_last  ...  arrival_dow  is_weekend  \\\n",
       "0                   9.0            0.0  ...            3           0   \n",
       "1                  10.0            1.0  ...            3           0   \n",
       "2                   6.0            3.0  ...            3           0   \n",
       "3                  10.0            4.0  ...            3           0   \n",
       "4                   7.0            2.0  ...            3           0   \n",
       "...                 ...            ...  ...          ...         ...   \n",
       "99169              24.0            3.0  ...            4           0   \n",
       "99170               6.0            2.0  ...            4           0   \n",
       "99171              10.0            4.0  ...            4           0   \n",
       "99172               9.0            2.0  ...            4           0   \n",
       "99173               9.0            1.0  ...            4           0   \n",
       "\n",
       "       arrival_month  arrival_year  arrival_to_first_ratio  \\\n",
       "0                  7          2021                1.000000   \n",
       "1                  7          2021                0.909091   \n",
       "2                  7          2021                0.666667   \n",
       "3                  7          2021                0.714286   \n",
       "4                  7          2021                0.777778   \n",
       "...              ...           ...                     ...   \n",
       "99169              8          2022                0.888889   \n",
       "99170              8          2022                0.750000   \n",
       "99171              8          2022                0.714286   \n",
       "99172              8          2022                0.818182   \n",
       "99173              8          2022                0.900000   \n",
       "\n",
       "       first_to_last_ratio  flight_freq  origin_freq  dest_freq  \\\n",
       "0                 0.000000           90         1423       5256   \n",
       "1                 0.090909           40         4345       5256   \n",
       "2                 0.333333          198         5370       1656   \n",
       "3                 0.285714           24         4345       1162   \n",
       "4                 0.222222           77         1302       5256   \n",
       "...                    ...          ...          ...        ...   \n",
       "99169             0.111111           96          450      20864   \n",
       "99170             0.250000          119        25942       8263   \n",
       "99171             0.285714           10         3935        866   \n",
       "99172             0.181818           65         7507       1948   \n",
       "99173             0.100000           62         2331       5419   \n",
       "\n",
       "       arrival_hour_x_duration  \n",
       "0                         72.0  \n",
       "1                         88.0  \n",
       "2                         72.0  \n",
       "3                        112.0  \n",
       "4                         72.0  \n",
       "...                        ...  \n",
       "99169                    162.0  \n",
       "99170                     56.0  \n",
       "99171                     98.0  \n",
       "99172                     77.0  \n",
       "99173                     70.0  \n",
       "\n",
       "[90794 rows x 22 columns]"
      ]
     },
     "execution_count": 235,
     "metadata": {},
     "output_type": "execute_result"
    }
   ],
   "source": [
    "# Datetime features\n",
    "# Feature Engineering: Features to Add\n",
    "'''\n",
    "1. Hours of Day\n",
    "2. Day of Week\n",
    "3. Weekday/Weekend\n",
    "4. Month\n",
    "5. Year\n",
    "'''\n",
    "df['arrival_hour'] = df['ActualArrival'].dt.hour\n",
    "df['arrival_dow'] = df['ActualArrival'].dt.dayofweek\n",
    "df['is_weekend'] = (df['arrival_dow'] >= 5).astype(int)\n",
    "df['arrival_month'] = df['ActualArrival'].dt.month\n",
    "df['arrival_year'] = df['ActualArrival'].dt.year\n",
    "\n",
    "# Ratios\n",
    "df['arrival_to_first_ratio'] = df['Arrival_To_First'] / df['DeliveryDurationMins']\n",
    "df['first_to_last_ratio'] = df['First_To_last'] / df['DeliveryDurationMins']\n",
    "\n",
    "# Categorical encodings\n",
    "df['flight_freq'] = df.groupby('FlightNumber')['FlightNumber'].transform('count')\n",
    "df['origin_freq'] = df.groupby('Origin')['Origin'].transform('count')\n",
    "df['dest_freq'] = df.groupby('Destination')['Destination'].transform('count')\n",
    "\n",
    "# Operational flags\n",
    "df['arrival_hour_x_duration'] = df['arrival_hour'] * df['DeliveryDurationMins']\n",
    "\n",
    "df"
   ]
  },
  {
   "cell_type": "code",
   "execution_count": 236,
   "id": "ddd474c8-6266-4ae9-9c23-c4704f75f90b",
   "metadata": {},
   "outputs": [],
   "source": [
    "# Problem rows to impute later\n",
    "df_problem = df[(df['ExpectedBagsCount'] == 0) & (df['DeliveryDurationMins'] > 0)].copy()\n",
    "\n",
    "# Clean rows for model training/validation\n",
    "df_clean = df[(df['ExpectedBagsCount'] > 0) & (df['DeliveryDurationMins'] > 0)].copy()"
   ]
  },
  {
   "cell_type": "code",
   "execution_count": 237,
   "id": "1e21f5a4-7d98-40d3-9c3f-16495c6beef4",
   "metadata": {},
   "outputs": [
    {
     "name": "stderr",
     "output_type": "stream",
     "text": [
      "/opt/anaconda3/lib/python3.12/site-packages/sklearn/metrics/_regression.py:492: FutureWarning: 'squared' is deprecated in version 1.4 and will be removed in 1.6. To calculate the root mean squared error, use the function'root_mean_squared_error'.\n",
      "  warnings.warn(\n"
     ]
    },
    {
     "name": "stdout",
     "output_type": "stream",
     "text": [
      "{'MAE': 12.365, 'RMSE': 17.606}\n"
     ]
    }
   ],
   "source": [
    "from sklearn.model_selection import train_test_split\n",
    "from sklearn.metrics import mean_absolute_error, mean_squared_error\n",
    "from sklearn.ensemble import RandomForestRegressor\n",
    "train_idx, val_idx = train_test_split(df_clean.index, test_size=0.2, random_state=42)\n",
    "df_train = df_clean.loc[train_idx].copy()\n",
    "df_val   = df_clean.loc[val_idx].copy()\n",
    "\n",
    "# --- Frequency encoders (fit on train only) ---\n",
    "def fit_freq_maps(d, cols):\n",
    "    return {c: d[c].value_counts(dropna=False).to_dict() for c in cols}\n",
    "\n",
    "def apply_freq_maps(d, maps):\n",
    "    d = d.copy()\n",
    "    for c, mp in maps.items():\n",
    "        d[f'{c}_freq'] = d[c].map(mp).fillna(0)\n",
    "    return d\n",
    "\n",
    "cat_cols = ['FlightNumber','Origin','Destination']\n",
    "freq_maps = fit_freq_maps(df_train, cat_cols)\n",
    "df_train  = apply_freq_maps(df_train, freq_maps)\n",
    "df_val    = apply_freq_maps(df_val, freq_maps)\n",
    "\n",
    "# --- Features/target ---\n",
    "feature_cols = [\n",
    "    'DeliveryDurationMins','Arrival_To_First','First_To_last',\n",
    "    'arrival_hour','arrival_dow','is_weekend','arrival_month','arrival_year',\n",
    "    'arrival_to_first_ratio','first_to_last_ratio',\n",
    "    'arrival_hour_x_duration',\n",
    "    'FlightNumber_freq','Origin_freq','Destination_freq'\n",
    "]\n",
    "X_train = df_train[feature_cols].fillna(0)\n",
    "y_train = df_train['ExpectedBagsCount'].astype(float)\n",
    "X_val   = df_val[feature_cols].fillna(0)\n",
    "y_val   = df_val['ExpectedBagsCount'].astype(float)\n",
    "\n",
    "# --- Model + validation ---\n",
    "rf = RandomForestRegressor(n_estimators=400, min_samples_leaf=2, n_jobs=-1, random_state=42)\n",
    "rf.fit(X_train, y_train)\n",
    "val_pred = rf.predict(X_val)\n",
    "mae  = mean_absolute_error(y_val, val_pred)\n",
    "rmse = mean_squared_error(y_val, val_pred, squared=False)\n",
    "print({'MAE': round(mae,3), 'RMSE': round(rmse,3)})\n",
    "\n",
    "# --- Retrain on all clean & impute problem rows ---\n",
    "df_clean_all = apply_freq_maps(df_clean.copy(), freq_maps)\n",
    "X_full = df_clean_all[feature_cols].fillna(0)\n",
    "y_full = df_clean_all['ExpectedBagsCount'].astype(float)\n",
    "rf.fit(X_full, y_full)\n",
    "\n",
    "df_problem_fe = apply_freq_maps(df_problem.copy(), freq_maps)\n",
    "X_problem = df_problem_fe[feature_cols].fillna(0)\n",
    "pred = rf.predict(X_problem)\n",
    "pred = np.clip(np.rint(pred), 0, None).astype(int)\n",
    "\n",
    "df_problem_fe['ExpectedBagsCount_imputed'] = pred\n",
    "df_problem_fe['ImputedExpectedBags'] = True"
   ]
  },
  {
   "cell_type": "code",
   "execution_count": 238,
   "id": "bd8bbae4-193a-4382-9f64-67d8fdbb1c98",
   "metadata": {},
   "outputs": [
    {
     "name": "stdout",
     "output_type": "stream",
     "text": [
      "{'MAE': 10.91, 'RMSE': 15.429}\n"
     ]
    },
    {
     "name": "stderr",
     "output_type": "stream",
     "text": [
      "/opt/anaconda3/lib/python3.12/site-packages/sklearn/metrics/_regression.py:492: FutureWarning: 'squared' is deprecated in version 1.4 and will be removed in 1.6. To calculate the root mean squared error, use the function'root_mean_squared_error'.\n",
      "  warnings.warn(\n"
     ]
    }
   ],
   "source": [
    "from xgboost import XGBRegressor\n",
    "xgb = XGBRegressor(\n",
    "    n_estimators=600,       # more trees for stability\n",
    "    max_depth=8,            # limit depth to avoid overfitting\n",
    "    learning_rate=0.05,     # smaller LR for smoother learning\n",
    "    subsample=0.8,          # random row subsample\n",
    "    colsample_bytree=0.8,   # random feature subsample\n",
    "    reg_lambda=1.0,         # L2 regularization\n",
    "    n_jobs=-1,\n",
    "    random_state=42\n",
    ")\n",
    "\n",
    "xgb.fit(X_train, y_train)\n",
    "\n",
    "# Validation\n",
    "val_pred = xgb.predict(X_val)\n",
    "mae  = mean_absolute_error(y_val, val_pred)\n",
    "rmse = mean_squared_error(y_val, val_pred, squared=False)\n",
    "print({'MAE': round(mae, 3), 'RMSE': round(rmse, 3)})"
   ]
  },
  {
   "cell_type": "code",
   "execution_count": 239,
   "id": "12654feb-bd9d-4b04-96d5-c2e99710cae7",
   "metadata": {},
   "outputs": [
    {
     "data": {
      "text/plain": [
       "148"
      ]
     },
     "execution_count": 239,
     "metadata": {},
     "output_type": "execute_result"
    }
   ],
   "source": [
    "# Predict on the clean (non-problem) set\n",
    "df_clean_all = apply_freq_maps(df_clean.copy(), freq_maps)  # same mapping as before\n",
    "X_clean_all = df_clean_all[feature_cols].fillna(0)\n",
    "\n",
    "clean_pred = xgb.predict(X_clean_all)\n",
    "clean_pred = np.clip(np.rint(clean_pred), 0, None).astype(int)\n",
    "\n",
    "# Attach predictions to original clean DataFrame\n",
    "df_clean_with_preds = df_clean.copy()\n",
    "df_clean_with_preds['PredictedBagsCount'] = clean_pred\n",
    "\n",
    "# Optional: Compare error per row\n",
    "df_clean_with_preds['AbsError'] = (df_clean_with_preds['PredictedBagsCount'] -\n",
    "                                   df_clean_with_preds['ExpectedBagsCount']).abs()\n",
    "\n",
    "# Now you have: actual, predicted, and absolute error side-by-side\n",
    "df_clean_with_preds.AbsError.max()"
   ]
  },
  {
   "cell_type": "code",
   "execution_count": 240,
   "id": "167e269e-2644-48b8-8881-294f0a36220a",
   "metadata": {},
   "outputs": [
    {
     "name": "stdout",
     "output_type": "stream",
     "text": [
      "  AbsErrorRange  Count\n",
      "0           0-5  36616\n",
      "1          6-10  23219\n",
      "2         11-15  12770\n",
      "3         16-20   6524\n",
      "4         21-25   3431\n",
      "5         26-50   3530\n",
      "6           50+    280\n"
     ]
    }
   ],
   "source": [
    "# Define bins for error ranges\n",
    "bins = [0, 5, 10, 15, 20, 25, 50, df_clean_with_preds['AbsError'].max()]\n",
    "labels = ['0-5', '6-10', '11-15', '16-20', '21-25', '26-50', '50+']\n",
    "\n",
    "df_clean_with_preds['AbsErrorBin'] = pd.cut(df_clean_with_preds['AbsError'], bins=bins, labels=labels, right=True)\n",
    "\n",
    "# Count rows per error bin\n",
    "error_bin_counts = df_clean_with_preds['AbsErrorBin'].value_counts().sort_index().reset_index()\n",
    "error_bin_counts.columns = ['AbsErrorRange', 'Count']\n",
    "\n",
    "print(error_bin_counts)"
   ]
  },
  {
   "cell_type": "code",
   "execution_count": 241,
   "id": "573a325c-fd2c-4837-90eb-9afabed14729",
   "metadata": {},
   "outputs": [],
   "source": [
    "# Problem rows: have bags but missing duration\n",
    "df_problem_c2 = df[(df['ExpectedBagsCount'] > 0) & (df['DeliveryDurationMins'] == 0)].copy()\n",
    "\n",
    "# Clean rows: have both bags and duration\n",
    "df_clean_c2 = df[(df['ExpectedBagsCount'] > 0) & (df['DeliveryDurationMins'] > 0)].copy()"
   ]
  },
  {
   "cell_type": "code",
   "execution_count": 305,
   "id": "a9a1c53a-e4e8-4ad1-addf-fd1e2419d87e",
   "metadata": {},
   "outputs": [],
   "source": [
    "df_clean_c2['ActualArrival'] = pd.to_datetime(df_clean_c2['ActualArrival'])\n",
    "df_problem_c2['ActualArrival'] = pd.to_datetime(df_problem_c2['ActualArrival'])\n",
    "\n",
    "def add_features_case2(df_in):\n",
    "    df = df_in.copy()\n",
    "    dt = df['ActualArrival']\n",
    "    df['arrival_hour']  = dt.dt.hour\n",
    "    df['arrival_dow']   = dt.dt.dayofweek\n",
    "    df['is_weekend']    = (df['arrival_dow'] >= 5).astype(int)\n",
    "    df['arrival_month'] = dt.dt.month\n",
    "    df['arrival_year']  = dt.dt.year\n",
    "\n",
    "    df['on_time_flag'] = df['OnTimeSuccess'].astype(int)\n",
    "    df['bags_x_hour']  = df['ExpectedBagsCount'] * df['arrival_hour']\n",
    "    df['bags_x_weekend'] = df['ExpectedBagsCount'] * df['is_weekend']\n",
    "    return df"
   ]
  },
  {
   "cell_type": "code",
   "execution_count": 307,
   "id": "a8d02255-16e1-4698-9787-cf894c5d0f7a",
   "metadata": {},
   "outputs": [],
   "source": [
    "CAT_HIGHCARD = ['FlightNumber','Origin','Destination']\n",
    "\n",
    "def fit_freq_maps(df, cols):\n",
    "    return {c: df[c].value_counts(dropna=False).to_dict() for c in cols}\n",
    "\n",
    "def apply_freq_maps(df, maps):\n",
    "    df = df.copy()\n",
    "    for c, mp in maps.items():\n",
    "        df[f'{c}_freq'] = df[c].map(mp).fillna(0)\n",
    "    return df\n",
    "\n",
    "# Apply to train/val split\n",
    "from sklearn.model_selection import train_test_split\n",
    "train_idx, val_idx = train_test_split(df_clean_c2.index, test_size=0.2, random_state=42)\n",
    "\n",
    "df_train_c2 = add_features_case2(df_clean_c2.loc[train_idx])\n",
    "df_val_c2   = add_features_case2(df_clean_c2.loc[val_idx])\n",
    "\n",
    "freq_maps_c2 = fit_freq_maps(df_train_c2, CAT_HIGHCARD)\n",
    "df_train_c2  = apply_freq_maps(df_train_c2, freq_maps_c2)\n",
    "df_val_c2    = apply_freq_maps(df_val_c2, freq_maps_c2)"
   ]
  },
  {
   "cell_type": "code",
   "execution_count": 309,
   "id": "53dbad89-bf1c-4667-83c0-6c6472cc8644",
   "metadata": {},
   "outputs": [
    {
     "name": "stdout",
     "output_type": "stream",
     "text": [
      "{'MAE (mins)': 2.213, 'RMSE (mins)': 2.918}\n"
     ]
    },
    {
     "name": "stderr",
     "output_type": "stream",
     "text": [
      "/opt/anaconda3/lib/python3.12/site-packages/sklearn/metrics/_regression.py:492: FutureWarning: 'squared' is deprecated in version 1.4 and will be removed in 1.6. To calculate the root mean squared error, use the function'root_mean_squared_error'.\n",
      "  warnings.warn(\n"
     ]
    }
   ],
   "source": [
    "feature_cols_c2 = [\n",
    "    'ExpectedBagsCount',\n",
    "    'arrival_hour','arrival_dow','is_weekend','arrival_month','arrival_year',\n",
    "    'on_time_flag','bags_x_hour','bags_x_weekend',\n",
    "    'FlightNumber_freq','Origin_freq','Destination_freq'\n",
    "]\n",
    "\n",
    "X_train_c2 = df_train_c2[feature_cols_c2].fillna(0)\n",
    "y_train_c2 = df_train_c2['DeliveryDurationMins'].astype(float)\n",
    "\n",
    "X_val_c2 = df_val_c2[feature_cols_c2].fillna(0)\n",
    "y_val_c2 = df_val_c2['DeliveryDurationMins'].astype(float)\n",
    "\n",
    "xgb_c2 = XGBRegressor(\n",
    "    n_estimators=600,\n",
    "    max_depth=8,\n",
    "    learning_rate=0.05,\n",
    "    subsample=0.8,\n",
    "    colsample_bytree=0.8,\n",
    "    reg_lambda=1.0,\n",
    "    n_jobs=-1,\n",
    "    random_state=42\n",
    ")\n",
    "\n",
    "xgb_c2.fit(X_train_c2, y_train_c2)\n",
    "val_pred_c2 = xgb_c2.predict(X_val_c2)\n",
    "\n",
    "mae_c2 = mean_absolute_error(y_val_c2, val_pred_c2)\n",
    "rmse_c2 = mean_squared_error(y_val_c2, val_pred_c2, squared=False)\n",
    "print({'MAE (mins)': round(mae_c2, 3), 'RMSE (mins)': round(rmse_c2, 3)})"
   ]
  },
  {
   "cell_type": "code",
   "execution_count": 319,
   "id": "60bd5da5-4959-4140-913a-321ec8766606",
   "metadata": {},
   "outputs": [
    {
     "data": {
      "text/html": [
       "<div>\n",
       "<style scoped>\n",
       "    .dataframe tbody tr th:only-of-type {\n",
       "        vertical-align: middle;\n",
       "    }\n",
       "\n",
       "    .dataframe tbody tr th {\n",
       "        vertical-align: top;\n",
       "    }\n",
       "\n",
       "    .dataframe thead th {\n",
       "        text-align: right;\n",
       "    }\n",
       "</style>\n",
       "<table border=\"1\" class=\"dataframe\">\n",
       "  <thead>\n",
       "    <tr style=\"text-align: right;\">\n",
       "      <th></th>\n",
       "      <th>DeliveryDurationMins</th>\n",
       "      <th>PredictedDeliveryMins</th>\n",
       "      <th>AbsError</th>\n",
       "    </tr>\n",
       "  </thead>\n",
       "  <tbody>\n",
       "    <tr>\n",
       "      <th>0</th>\n",
       "      <td>9.0</td>\n",
       "      <td>8</td>\n",
       "      <td>1.0</td>\n",
       "    </tr>\n",
       "    <tr>\n",
       "      <th>1</th>\n",
       "      <td>11.0</td>\n",
       "      <td>11</td>\n",
       "      <td>0.0</td>\n",
       "    </tr>\n",
       "    <tr>\n",
       "      <th>2</th>\n",
       "      <td>9.0</td>\n",
       "      <td>9</td>\n",
       "      <td>0.0</td>\n",
       "    </tr>\n",
       "    <tr>\n",
       "      <th>3</th>\n",
       "      <td>14.0</td>\n",
       "      <td>12</td>\n",
       "      <td>2.0</td>\n",
       "    </tr>\n",
       "    <tr>\n",
       "      <th>4</th>\n",
       "      <td>9.0</td>\n",
       "      <td>12</td>\n",
       "      <td>3.0</td>\n",
       "    </tr>\n",
       "  </tbody>\n",
       "</table>\n",
       "</div>"
      ],
      "text/plain": [
       "   DeliveryDurationMins  PredictedDeliveryMins  AbsError\n",
       "0                   9.0                      8       1.0\n",
       "1                  11.0                     11       0.0\n",
       "2                   9.0                      9       0.0\n",
       "3                  14.0                     12       2.0\n",
       "4                   9.0                     12       3.0"
      ]
     },
     "execution_count": 319,
     "metadata": {},
     "output_type": "execute_result"
    }
   ],
   "source": [
    "# Prepare clean set (actual durations exist)\n",
    "df_clean_all_c2 = add_features_case2(df_clean_c2)\n",
    "df_clean_all_c2 = apply_freq_maps(df_clean_all_c2, freq_maps_c2)\n",
    "X_clean_all_c2 = df_clean_all_c2[feature_cols_c2].fillna(0)\n",
    "\n",
    "# Predict on clean flights\n",
    "pred_clean_c2 = xgb_c2.predict(X_clean_all_c2)\n",
    "pred_clean_c2 = np.clip(np.rint(pred_clean_c2), 0, None).astype(int)\n",
    "\n",
    "# Attach predictions side-by-side with actuals\n",
    "df_clean_with_preds_c2 = df_clean_c2.copy()\n",
    "df_clean_with_preds_c2['PredictedDeliveryMins'] = pred_clean_c2\n",
    "df_clean_with_preds_c2['AbsError'] = (\n",
    "    df_clean_with_preds_c2['PredictedDeliveryMins'] -\n",
    "    df_clean_with_preds_c2['DeliveryDurationMins']\n",
    ").abs()\n",
    "\n",
    "# Preview\n",
    "df_clean_with_preds_c2[['DeliveryDurationMins', 'PredictedDeliveryMins', 'AbsError']].head()"
   ]
  },
  {
   "cell_type": "code",
   "execution_count": 323,
   "id": "0e8c902b-0f67-402f-8433-42d4c38d0fe4",
   "metadata": {},
   "outputs": [
    {
     "data": {
      "text/plain": [
       "count    90622.000000\n",
       "mean         1.793063\n",
       "std          1.526432\n",
       "min          0.000000\n",
       "25%          1.000000\n",
       "50%          1.000000\n",
       "75%          3.000000\n",
       "max         15.000000\n",
       "Name: AbsError, dtype: float64"
      ]
     },
     "execution_count": 323,
     "metadata": {},
     "output_type": "execute_result"
    }
   ],
   "source": [
    "df_clean_with_preds_c2.AbsError.describe()"
   ]
  },
  {
   "cell_type": "markdown",
   "id": "609911d0-19ff-4ecb-a4b3-dadf7940d04e",
   "metadata": {},
   "source": [
    "# Phase 3: Python Script, Docker, Airflow/Power Automate"
   ]
  },
  {
   "cell_type": "code",
   "execution_count": null,
   "id": "81f81b7e-3a42-439c-8b08-fe774663504b",
   "metadata": {},
   "outputs": [],
   "source": []
  },
  {
   "cell_type": "code",
   "execution_count": null,
   "id": "dfb6caf7-d0f9-4622-838c-7f78bb64df32",
   "metadata": {},
   "outputs": [],
   "source": []
  },
  {
   "cell_type": "code",
   "execution_count": 331,
   "id": "8fe3888b-8221-4e0e-b4ea-ff444b230d42",
   "metadata": {},
   "outputs": [
    {
     "ename": "NameError",
     "evalue": "name 'add_engineered_features' is not defined",
     "output_type": "error",
     "traceback": [
      "\u001b[0;31m---------------------------------------------------------------------------\u001b[0m",
      "\u001b[0;31mNameError\u001b[0m                                 Traceback (most recent call last)",
      "Cell \u001b[0;32mIn[331], line 5\u001b[0m\n\u001b[1;32m      2\u001b[0m \u001b[38;5;28;01mimport\u001b[39;00m \u001b[38;5;21;01mpandas\u001b[39;00m \u001b[38;5;28;01mas\u001b[39;00m \u001b[38;5;21;01mpd\u001b[39;00m\n\u001b[1;32m      4\u001b[0m \u001b[38;5;66;03m# Feature engineering for Case 1\u001b[39;00m\n\u001b[0;32m----> 5\u001b[0m df_train_c1 \u001b[38;5;241m=\u001b[39m add_engineered_features(df_clean\u001b[38;5;241m.\u001b[39mloc[train_idx])\n\u001b[1;32m      6\u001b[0m df_val_c1   \u001b[38;5;241m=\u001b[39m add_engineered_features(df_clean\u001b[38;5;241m.\u001b[39mloc[val_idx])\n\u001b[1;32m      8\u001b[0m \u001b[38;5;66;03m# One-hot encode all categorical vars\u001b[39;00m\n",
      "\u001b[0;31mNameError\u001b[0m: name 'add_engineered_features' is not defined"
     ]
    }
   ],
   "source": []
  },
  {
   "cell_type": "code",
   "execution_count": 329,
   "id": "b41de908-674a-4cb1-b925-7747b4b28c78",
   "metadata": {},
   "outputs": [
    {
     "name": "stdout",
     "output_type": "stream",
     "text": [
      "{'MAE (mins)': 2.214, 'RMSE (mins)': 2.906}\n"
     ]
    },
    {
     "name": "stderr",
     "output_type": "stream",
     "text": [
      "/opt/anaconda3/lib/python3.12/site-packages/sklearn/metrics/_regression.py:492: FutureWarning: 'squared' is deprecated in version 1.4 and will be removed in 1.6. To calculate the root mean squared error, use the function'root_mean_squared_error'.\n",
      "  warnings.warn(\n"
     ]
    }
   ],
   "source": [
    "xgb_c2.fit(X_train_c2, y_train_c2)\n",
    "val_pred_c2 = xgb_c2.predict(X_val_c2)\n",
    "mae_c2 = mean_absolute_error(y_val_c2, val_pred_c2)\n",
    "rmse_c2 = mean_squared_error(y_val_c2, val_pred_c2, squared=False)\n",
    "\n",
    "print({'MAE (mins)': round(mae_c2, 3), 'RMSE (mins)': round(rmse_c2, 3)})"
   ]
  },
  {
   "cell_type": "code",
   "execution_count": 337,
   "id": "228e3ad8-5985-4e03-b13f-00410e5fa6c5",
   "metadata": {},
   "outputs": [
    {
     "name": "stdout",
     "output_type": "stream",
     "text": [
      "{'MAE (bags)': 11.471, 'RMSE (bags)': 16.045}\n"
     ]
    },
    {
     "name": "stderr",
     "output_type": "stream",
     "text": [
      "/opt/anaconda3/lib/python3.12/site-packages/sklearn/metrics/_regression.py:492: FutureWarning: 'squared' is deprecated in version 1.4 and will be removed in 1.6. To calculate the root mean squared error, use the function'root_mean_squared_error'.\n",
      "  warnings.warn(\n"
     ]
    }
   ],
   "source": [
    "import numpy as np\n",
    "import pandas as pd\n",
    "from sklearn.model_selection import train_test_split\n",
    "from sklearn.metrics import mean_absolute_error, mean_squared_error\n",
    "from sklearn.preprocessing import OneHotEncoder\n",
    "from xgboost import XGBRegressor\n",
    "\n",
    "# 1) Split clean vs problem (we'll ONLY use clean)\n",
    "df_clean = df[(df['ExpectedBagsCount'] > 0) & (df['DeliveryDurationMins'] > 0)].copy()\n",
    "\n",
    "# 2) Inline feature engineering (no helper funcs)\n",
    "df_clean['ActualArrival'] = pd.to_datetime(df_clean['ActualArrival'])\n",
    "df_clean['arrival_hour']   = df_clean['ActualArrival'].dt.hour\n",
    "df_clean['arrival_dow']    = df_clean['ActualArrival'].dt.dayofweek\n",
    "df_clean['is_weekend']     = (df_clean['arrival_dow'] >= 5).astype(int)\n",
    "df_clean['arrival_month']  = df_clean['ActualArrival'].dt.month\n",
    "df_clean['arrival_year']   = df_clean['ActualArrival'].dt.year\n",
    "\n",
    "_dd = df_clean['DeliveryDurationMins'].replace(0, np.nan)\n",
    "df_clean['arrival_to_first_ratio'] = (df_clean['Arrival_To_First'] / _dd).fillna(0)\n",
    "df_clean['first_to_last_ratio']    = (df_clean['First_To_last']  / _dd).fillna(0)\n",
    "df_clean['on_time_flag'] = df_clean['OnTimeSuccess'].astype(int)\n",
    "df_clean['arrival_hour_x_duration'] = df_clean['arrival_hour'] * df_clean['DeliveryDurationMins']\n",
    "\n",
    "# 3) Train/val split\n",
    "train_idx, val_idx = train_test_split(df_clean.index, test_size=0.2, random_state=42)\n",
    "df_train = df_clean.loc[train_idx].copy()\n",
    "df_val   = df_clean.loc[val_idx].copy()\n",
    "\n",
    "# 4) One-hot encode categoricals (fit on TRAIN only)\n",
    "ohe = OneHotEncoder(handle_unknown='ignore', sparse_output=False)\n",
    "ohe.fit(df_train[['FlightNumber','Origin','Destination']])\n",
    "\n",
    "ohe_train = ohe.transform(df_train[['FlightNumber','Origin','Destination']])\n",
    "ohe_val   = ohe.transform(df_val[['FlightNumber','Origin','Destination']])\n",
    "ohe_cols  = ohe.get_feature_names_out(['FlightNumber','Origin','Destination'])\n",
    "\n",
    "# 5) Assemble features\n",
    "numeric_cols = [\n",
    "    'DeliveryDurationMins','Arrival_To_First','First_To_last',\n",
    "    'arrival_hour','arrival_dow','is_weekend','arrival_month','arrival_year',\n",
    "    'arrival_to_first_ratio','first_to_last_ratio',\n",
    "    'on_time_flag','arrival_hour_x_duration'\n",
    "]\n",
    "\n",
    "X_train = pd.concat([\n",
    "    df_train[numeric_cols].reset_index(drop=True),\n",
    "    pd.DataFrame(ohe_train, columns=ohe_cols)\n",
    "], axis=1).fillna(0)\n",
    "y_train = df_train['ExpectedBagsCount'].astype(float)\n",
    "\n",
    "X_val = pd.concat([\n",
    "    df_val[numeric_cols].reset_index(drop=True),\n",
    "    pd.DataFrame(ohe_val, columns=ohe_cols)\n",
    "], axis=1).fillna(0)\n",
    "y_val = df_val['ExpectedBagsCount'].astype(float)\n",
    "\n",
    "# 6) Train & validate\n",
    "xgb = XGBRegressor(\n",
    "    n_estimators=600, max_depth=8, learning_rate=0.05,\n",
    "    subsample=0.8, colsample_bytree=0.8, reg_lambda=1.0,\n",
    "    n_jobs=-1, random_state=42\n",
    ")\n",
    "xgb.fit(X_train, y_train)\n",
    "\n",
    "val_pred = xgb.predict(X_val)\n",
    "mae  = mean_absolute_error(y_val, val_pred)\n",
    "rmse = mean_squared_error(y_val, val_pred, squared=False)\n",
    "print({'MAE (bags)': round(mae, 3), 'RMSE (bags)': round(rmse, 3)})\n",
    "\n",
    "# --- OPTIONAL: side-by-side predictions on ALL clean rows (for inspection only) ---\n",
    "# ohe_clean = ohe.transform(df_clean[['FlightNumber','Origin','Destination']])\n",
    "# X_clean_all = pd.concat([df_clean[numeric_cols].reset_index(drop=True),\n",
    "#                          pd.DataFrame(ohe_clean, columns=ohe_cols)], axis=1).fillna(0)\n",
    "# clean_pred = np.rint(np.clip(xgb.predict(X_clean_all), 0, None)).astype(int)\n",
    "# df_clean_with_preds = df_clean.copy()\n",
    "# df_clean_with_preds['PredictedBagsCount'] = clean_pred\n",
    "# df_clean_with_preds['AbsError'] = (df_clean_with_preds['PredictedBagsCount'] - df_clean_with_preds['ExpectedBagsCount']).abs()"
   ]
  },
  {
   "cell_type": "code",
   "execution_count": 353,
   "id": "03722904-8d7a-40a1-9cb4-3d508bbd39ac",
   "metadata": {},
   "outputs": [
    {
     "name": "stdout",
     "output_type": "stream",
     "text": [
      "   arrival_dow  DeliveryDurationMins\n",
      "0            0             15.753016\n",
      "1            1             15.062097\n",
      "2            2             15.007788\n",
      "3            3             15.038309\n",
      "4            4             15.336685\n",
      "5            5             16.213349\n",
      "6            6             16.320210\n"
     ]
    }
   ],
   "source": [
    "avg_delivery_by_dow = (\n",
    "    df.groupby('arrival_dow')['DeliveryDurationMins']\n",
    "      .mean()\n",
    "      .reset_index()\n",
    "      .sort_values('arrival_dow')\n",
    ")\n",
    "\n",
    "print(avg_delivery_by_dow)"
   ]
  },
  {
   "cell_type": "code",
   "execution_count": 355,
   "id": "0a6744d3-07d0-42ec-9b45-5b27bb5fc718",
   "metadata": {},
   "outputs": [
    {
     "data": {
      "text/html": [
       "<div>\n",
       "<style scoped>\n",
       "    .dataframe tbody tr th:only-of-type {\n",
       "        vertical-align: middle;\n",
       "    }\n",
       "\n",
       "    .dataframe tbody tr th {\n",
       "        vertical-align: top;\n",
       "    }\n",
       "\n",
       "    .dataframe thead th {\n",
       "        text-align: right;\n",
       "    }\n",
       "</style>\n",
       "<table border=\"1\" class=\"dataframe\">\n",
       "  <thead>\n",
       "    <tr style=\"text-align: right;\">\n",
       "      <th></th>\n",
       "      <th>ActualArrival</th>\n",
       "      <th>FlightNumber</th>\n",
       "      <th>ExpectedBagsCount</th>\n",
       "      <th>FirstBagDropTime</th>\n",
       "      <th>LastBagDropTime</th>\n",
       "      <th>DeliveryDurationMins</th>\n",
       "      <th>Arrival_To_First</th>\n",
       "      <th>First_To_last</th>\n",
       "      <th>OnTimeSuccess</th>\n",
       "      <th>arrival_hour</th>\n",
       "      <th>arrival_dow</th>\n",
       "      <th>is_weekend</th>\n",
       "      <th>arrival_month</th>\n",
       "      <th>arrival_year</th>\n",
       "      <th>arrival_to_first_ratio</th>\n",
       "      <th>first_to_last_ratio</th>\n",
       "      <th>flight_freq</th>\n",
       "      <th>origin_freq</th>\n",
       "      <th>dest_freq</th>\n",
       "      <th>arrival_hour_x_duration</th>\n",
       "    </tr>\n",
       "  </thead>\n",
       "  <tbody>\n",
       "    <tr>\n",
       "      <th>count</th>\n",
       "      <td>90794</td>\n",
       "      <td>90794.000000</td>\n",
       "      <td>90794.000000</td>\n",
       "      <td>90794</td>\n",
       "      <td>90794</td>\n",
       "      <td>90794.000000</td>\n",
       "      <td>90794.000000</td>\n",
       "      <td>90794.000000</td>\n",
       "      <td>90794.000000</td>\n",
       "      <td>90794.000000</td>\n",
       "      <td>90794.000000</td>\n",
       "      <td>90794.000000</td>\n",
       "      <td>90794.000000</td>\n",
       "      <td>90794.000000</td>\n",
       "      <td>90690.000000</td>\n",
       "      <td>90690.000000</td>\n",
       "      <td>90794.000000</td>\n",
       "      <td>90794.000000</td>\n",
       "      <td>90794.00000</td>\n",
       "      <td>90794.000000</td>\n",
       "    </tr>\n",
       "    <tr>\n",
       "      <th>mean</th>\n",
       "      <td>2021-12-02 06:26:59.260524032</td>\n",
       "      <td>3412.307950</td>\n",
       "      <td>53.192623</td>\n",
       "      <td>2021-12-02 06:39:03.994096384</td>\n",
       "      <td>2021-12-02 06:42:31.188184320</td>\n",
       "      <td>15.532128</td>\n",
       "      <td>12.078893</td>\n",
       "      <td>3.453235</td>\n",
       "      <td>0.816431</td>\n",
       "      <td>14.647642</td>\n",
       "      <td>2.984261</td>\n",
       "      <td>0.277595</td>\n",
       "      <td>6.695464</td>\n",
       "      <td>2021.404498</td>\n",
       "      <td>0.778613</td>\n",
       "      <td>0.221387</td>\n",
       "      <td>102.522766</td>\n",
       "      <td>9396.404278</td>\n",
       "      <td>6977.15979</td>\n",
       "      <td>229.215444</td>\n",
       "    </tr>\n",
       "    <tr>\n",
       "      <th>min</th>\n",
       "      <td>2021-07-22 08:20:00</td>\n",
       "      <td>3.000000</td>\n",
       "      <td>0.000000</td>\n",
       "      <td>2021-07-22 08:26:00</td>\n",
       "      <td>2021-07-22 08:29:00</td>\n",
       "      <td>0.000000</td>\n",
       "      <td>0.000000</td>\n",
       "      <td>0.000000</td>\n",
       "      <td>0.000000</td>\n",
       "      <td>0.000000</td>\n",
       "      <td>0.000000</td>\n",
       "      <td>0.000000</td>\n",
       "      <td>1.000000</td>\n",
       "      <td>2021.000000</td>\n",
       "      <td>0.000000</td>\n",
       "      <td>0.000000</td>\n",
       "      <td>1.000000</td>\n",
       "      <td>1.000000</td>\n",
       "      <td>1.00000</td>\n",
       "      <td>0.000000</td>\n",
       "    </tr>\n",
       "    <tr>\n",
       "      <th>25%</th>\n",
       "      <td>2021-09-27 21:10:00</td>\n",
       "      <td>531.000000</td>\n",
       "      <td>25.000000</td>\n",
       "      <td>2021-09-27 21:15:30</td>\n",
       "      <td>2021-09-27 21:16:30</td>\n",
       "      <td>11.000000</td>\n",
       "      <td>8.000000</td>\n",
       "      <td>1.000000</td>\n",
       "      <td>1.000000</td>\n",
       "      <td>11.000000</td>\n",
       "      <td>1.000000</td>\n",
       "      <td>0.000000</td>\n",
       "      <td>2.000000</td>\n",
       "      <td>2021.000000</td>\n",
       "      <td>0.733333</td>\n",
       "      <td>0.105263</td>\n",
       "      <td>55.000000</td>\n",
       "      <td>805.000000</td>\n",
       "      <td>866.00000</td>\n",
       "      <td>135.000000</td>\n",
       "    </tr>\n",
       "    <tr>\n",
       "      <th>50%</th>\n",
       "      <td>2021-12-01 18:38:30</td>\n",
       "      <td>2315.000000</td>\n",
       "      <td>44.000000</td>\n",
       "      <td>2021-12-01 18:54:30</td>\n",
       "      <td>2021-12-01 18:56:30</td>\n",
       "      <td>15.000000</td>\n",
       "      <td>12.000000</td>\n",
       "      <td>3.000000</td>\n",
       "      <td>1.000000</td>\n",
       "      <td>15.000000</td>\n",
       "      <td>3.000000</td>\n",
       "      <td>0.000000</td>\n",
       "      <td>8.000000</td>\n",
       "      <td>2021.000000</td>\n",
       "      <td>0.823529</td>\n",
       "      <td>0.176471</td>\n",
       "      <td>84.000000</td>\n",
       "      <td>4345.000000</td>\n",
       "      <td>2974.00000</td>\n",
       "      <td>208.000000</td>\n",
       "    </tr>\n",
       "    <tr>\n",
       "      <th>75%</th>\n",
       "      <td>2022-02-13 20:09:30</td>\n",
       "      <td>6322.000000</td>\n",
       "      <td>75.000000</td>\n",
       "      <td>2022-02-13 20:24:45</td>\n",
       "      <td>2022-02-13 20:26:45</td>\n",
       "      <td>19.000000</td>\n",
       "      <td>15.000000</td>\n",
       "      <td>4.000000</td>\n",
       "      <td>1.000000</td>\n",
       "      <td>19.000000</td>\n",
       "      <td>5.000000</td>\n",
       "      <td>1.000000</td>\n",
       "      <td>10.000000</td>\n",
       "      <td>2022.000000</td>\n",
       "      <td>0.894737</td>\n",
       "      <td>0.266667</td>\n",
       "      <td>116.000000</td>\n",
       "      <td>25942.000000</td>\n",
       "      <td>8263.00000</td>\n",
       "      <td>300.000000</td>\n",
       "    </tr>\n",
       "    <tr>\n",
       "      <th>max</th>\n",
       "      <td>2022-08-12 07:14:00</td>\n",
       "      <td>9994.000000</td>\n",
       "      <td>416.000000</td>\n",
       "      <td>2022-08-12 07:23:00</td>\n",
       "      <td>2022-08-12 07:25:00</td>\n",
       "      <td>39.000000</td>\n",
       "      <td>39.000000</td>\n",
       "      <td>37.000000</td>\n",
       "      <td>1.000000</td>\n",
       "      <td>23.000000</td>\n",
       "      <td>6.000000</td>\n",
       "      <td>1.000000</td>\n",
       "      <td>12.000000</td>\n",
       "      <td>2022.000000</td>\n",
       "      <td>1.000000</td>\n",
       "      <td>1.000000</td>\n",
       "      <td>579.000000</td>\n",
       "      <td>25942.000000</td>\n",
       "      <td>20864.00000</td>\n",
       "      <td>897.000000</td>\n",
       "    </tr>\n",
       "    <tr>\n",
       "      <th>std</th>\n",
       "      <td>NaN</td>\n",
       "      <td>3225.811666</td>\n",
       "      <td>38.355182</td>\n",
       "      <td>NaN</td>\n",
       "      <td>NaN</td>\n",
       "      <td>6.522483</td>\n",
       "      <td>5.776797</td>\n",
       "      <td>3.448036</td>\n",
       "      <td>0.387135</td>\n",
       "      <td>5.211779</td>\n",
       "      <td>2.022492</td>\n",
       "      <td>0.447815</td>\n",
       "      <td>3.945714</td>\n",
       "      <td>0.490797</td>\n",
       "      <td>0.190955</td>\n",
       "      <td>0.190955</td>\n",
       "      <td>87.564155</td>\n",
       "      <td>10673.317427</td>\n",
       "      <td>7937.02626</td>\n",
       "      <td>134.582995</td>\n",
       "    </tr>\n",
       "  </tbody>\n",
       "</table>\n",
       "</div>"
      ],
      "text/plain": [
       "                       ActualArrival  FlightNumber  ExpectedBagsCount  \\\n",
       "count                          90794  90794.000000       90794.000000   \n",
       "mean   2021-12-02 06:26:59.260524032   3412.307950          53.192623   \n",
       "min              2021-07-22 08:20:00      3.000000           0.000000   \n",
       "25%              2021-09-27 21:10:00    531.000000          25.000000   \n",
       "50%              2021-12-01 18:38:30   2315.000000          44.000000   \n",
       "75%              2022-02-13 20:09:30   6322.000000          75.000000   \n",
       "max              2022-08-12 07:14:00   9994.000000         416.000000   \n",
       "std                              NaN   3225.811666          38.355182   \n",
       "\n",
       "                    FirstBagDropTime                LastBagDropTime  \\\n",
       "count                          90794                          90794   \n",
       "mean   2021-12-02 06:39:03.994096384  2021-12-02 06:42:31.188184320   \n",
       "min              2021-07-22 08:26:00            2021-07-22 08:29:00   \n",
       "25%              2021-09-27 21:15:30            2021-09-27 21:16:30   \n",
       "50%              2021-12-01 18:54:30            2021-12-01 18:56:30   \n",
       "75%              2022-02-13 20:24:45            2022-02-13 20:26:45   \n",
       "max              2022-08-12 07:23:00            2022-08-12 07:25:00   \n",
       "std                              NaN                            NaN   \n",
       "\n",
       "       DeliveryDurationMins  Arrival_To_First  First_To_last  OnTimeSuccess  \\\n",
       "count          90794.000000      90794.000000   90794.000000   90794.000000   \n",
       "mean              15.532128         12.078893       3.453235       0.816431   \n",
       "min                0.000000          0.000000       0.000000       0.000000   \n",
       "25%               11.000000          8.000000       1.000000       1.000000   \n",
       "50%               15.000000         12.000000       3.000000       1.000000   \n",
       "75%               19.000000         15.000000       4.000000       1.000000   \n",
       "max               39.000000         39.000000      37.000000       1.000000   \n",
       "std                6.522483          5.776797       3.448036       0.387135   \n",
       "\n",
       "       arrival_hour   arrival_dow    is_weekend  arrival_month  arrival_year  \\\n",
       "count  90794.000000  90794.000000  90794.000000   90794.000000  90794.000000   \n",
       "mean      14.647642      2.984261      0.277595       6.695464   2021.404498   \n",
       "min        0.000000      0.000000      0.000000       1.000000   2021.000000   \n",
       "25%       11.000000      1.000000      0.000000       2.000000   2021.000000   \n",
       "50%       15.000000      3.000000      0.000000       8.000000   2021.000000   \n",
       "75%       19.000000      5.000000      1.000000      10.000000   2022.000000   \n",
       "max       23.000000      6.000000      1.000000      12.000000   2022.000000   \n",
       "std        5.211779      2.022492      0.447815       3.945714      0.490797   \n",
       "\n",
       "       arrival_to_first_ratio  first_to_last_ratio   flight_freq  \\\n",
       "count            90690.000000         90690.000000  90794.000000   \n",
       "mean                 0.778613             0.221387    102.522766   \n",
       "min                  0.000000             0.000000      1.000000   \n",
       "25%                  0.733333             0.105263     55.000000   \n",
       "50%                  0.823529             0.176471     84.000000   \n",
       "75%                  0.894737             0.266667    116.000000   \n",
       "max                  1.000000             1.000000    579.000000   \n",
       "std                  0.190955             0.190955     87.564155   \n",
       "\n",
       "        origin_freq    dest_freq  arrival_hour_x_duration  \n",
       "count  90794.000000  90794.00000             90794.000000  \n",
       "mean    9396.404278   6977.15979               229.215444  \n",
       "min        1.000000      1.00000                 0.000000  \n",
       "25%      805.000000    866.00000               135.000000  \n",
       "50%     4345.000000   2974.00000               208.000000  \n",
       "75%    25942.000000   8263.00000               300.000000  \n",
       "max    25942.000000  20864.00000               897.000000  \n",
       "std    10673.317427   7937.02626               134.582995  "
      ]
     },
     "execution_count": 355,
     "metadata": {},
     "output_type": "execute_result"
    }
   ],
   "source": [
    "df.describe()"
   ]
  },
  {
   "cell_type": "code",
   "execution_count": null,
   "id": "f731eb6c-1567-4225-a427-dfd77e441e72",
   "metadata": {},
   "outputs": [],
   "source": []
  },
  {
   "cell_type": "code",
   "execution_count": null,
   "id": "ebc2ed58-03a7-420a-8b0e-e482992eb00d",
   "metadata": {},
   "outputs": [],
   "source": []
  },
  {
   "cell_type": "code",
   "execution_count": null,
   "id": "e46a71c9-76db-41b6-9244-ecdefd309475",
   "metadata": {},
   "outputs": [],
   "source": []
  },
  {
   "cell_type": "code",
   "execution_count": null,
   "id": "b4449aa5-5e38-41c5-852b-1d6b34d0d12f",
   "metadata": {},
   "outputs": [],
   "source": []
  },
  {
   "cell_type": "code",
   "execution_count": null,
   "id": "5319d11c-acc7-4cca-8a4b-9a5eebeb2455",
   "metadata": {},
   "outputs": [],
   "source": []
  },
  {
   "cell_type": "code",
   "execution_count": null,
   "id": "a9e53cac-507c-4639-bdde-6c81bb8d2792",
   "metadata": {},
   "outputs": [],
   "source": []
  }
 ],
 "metadata": {
  "kernelspec": {
   "display_name": "Python [conda env:base] *",
   "language": "python",
   "name": "conda-base-py"
  },
  "language_info": {
   "codemirror_mode": {
    "name": "ipython",
    "version": 3
   },
   "file_extension": ".py",
   "mimetype": "text/x-python",
   "name": "python",
   "nbconvert_exporter": "python",
   "pygments_lexer": "ipython3",
   "version": "3.12.7"
  }
 },
 "nbformat": 4,
 "nbformat_minor": 5
}
